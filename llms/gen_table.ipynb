{
 "cells": [
  {
   "cell_type": "code",
   "execution_count": 125,
   "metadata": {},
   "outputs": [],
   "source": [
    "import pandas as pd\n",
    "import json\n",
    "import os"
   ]
  },
  {
   "cell_type": "code",
   "execution_count": 126,
   "metadata": {},
   "outputs": [],
   "source": [
    "bmm = pd.read_csv(\"_metadados/bedrock_models.csv\", sep=\";\")\n",
    "pth_mkd_readme = \"readme.md\""
   ]
  },
  {
   "cell_type": "code",
   "execution_count": 127,
   "metadata": {},
   "outputs": [
    {
     "data": {
      "text/html": [
       "<div>\n",
       "<style scoped>\n",
       "    .dataframe tbody tr th:only-of-type {\n",
       "        vertical-align: middle;\n",
       "    }\n",
       "\n",
       "    .dataframe tbody tr th {\n",
       "        vertical-align: top;\n",
       "    }\n",
       "\n",
       "    .dataframe thead th {\n",
       "        text-align: right;\n",
       "    }\n",
       "</style>\n",
       "<table border=\"1\" class=\"dataframe\">\n",
       "  <thead>\n",
       "    <tr style=\"text-align: right;\">\n",
       "      <th></th>\n",
       "      <th>input_id</th>\n",
       "      <th>gabarito</th>\n",
       "      <th>respostas</th>\n",
       "      <th>respostas_raw</th>\n",
       "      <th>input_tokens</th>\n",
       "      <th>output_tokens</th>\n",
       "      <th>total_tokens</th>\n",
       "      <th>latency</th>\n",
       "      <th>prova_id</th>\n",
       "      <th>eval</th>\n",
       "      <th>model_id</th>\n",
       "      <th>model_raw</th>\n",
       "      <th>uses_cot</th>\n",
       "      <th>year</th>\n",
       "      <th>model_name</th>\n",
       "      <th>model_hash</th>\n",
       "      <th>cost</th>\n",
       "      <th>real_cost</th>\n",
       "      <th>correct</th>\n",
       "      <th>eval_full</th>\n",
       "    </tr>\n",
       "  </thead>\n",
       "  <tbody>\n",
       "    <tr>\n",
       "      <th>0</th>\n",
       "      <td>2016-19_1</td>\n",
       "      <td>D</td>\n",
       "      <td>D</td>\n",
       "      <td>D</td>\n",
       "      <td>374</td>\n",
       "      <td>6</td>\n",
       "      <td>380</td>\n",
       "      <td>850</td>\n",
       "      <td>2016-19</td>\n",
       "      <td>oab</td>\n",
       "      <td>us_anthropic_claude-3-5-haiku-20241022-v1:0_ze...</td>\n",
       "      <td>us.anthropic.claude-3-5-haiku-20241022-v1:0</td>\n",
       "      <td>False</td>\n",
       "      <td>2016</td>\n",
       "      <td>us_anthropic_claude-3-5-haiku-20241022-v1:0_ze...</td>\n",
       "      <td>371d456d7da764ca03b5b0845996289d</td>\n",
       "      <td>4.8</td>\n",
       "      <td>0.000323</td>\n",
       "      <td>True</td>\n",
       "      <td>oab/2016-19</td>\n",
       "    </tr>\n",
       "    <tr>\n",
       "      <th>1</th>\n",
       "      <td>2016-19_2</td>\n",
       "      <td>B</td>\n",
       "      <td>B</td>\n",
       "      <td>B</td>\n",
       "      <td>409</td>\n",
       "      <td>6</td>\n",
       "      <td>415</td>\n",
       "      <td>684</td>\n",
       "      <td>2016-19</td>\n",
       "      <td>oab</td>\n",
       "      <td>us_anthropic_claude-3-5-haiku-20241022-v1:0_ze...</td>\n",
       "      <td>us.anthropic.claude-3-5-haiku-20241022-v1:0</td>\n",
       "      <td>False</td>\n",
       "      <td>2016</td>\n",
       "      <td>us_anthropic_claude-3-5-haiku-20241022-v1:0_ze...</td>\n",
       "      <td>371d456d7da764ca03b5b0845996289d</td>\n",
       "      <td>4.8</td>\n",
       "      <td>0.000351</td>\n",
       "      <td>True</td>\n",
       "      <td>oab/2016-19</td>\n",
       "    </tr>\n",
       "    <tr>\n",
       "      <th>2</th>\n",
       "      <td>2016-19_3</td>\n",
       "      <td>C</td>\n",
       "      <td>C</td>\n",
       "      <td>C</td>\n",
       "      <td>561</td>\n",
       "      <td>6</td>\n",
       "      <td>567</td>\n",
       "      <td>784</td>\n",
       "      <td>2016-19</td>\n",
       "      <td>oab</td>\n",
       "      <td>us_anthropic_claude-3-5-haiku-20241022-v1:0_ze...</td>\n",
       "      <td>us.anthropic.claude-3-5-haiku-20241022-v1:0</td>\n",
       "      <td>False</td>\n",
       "      <td>2016</td>\n",
       "      <td>us_anthropic_claude-3-5-haiku-20241022-v1:0_ze...</td>\n",
       "      <td>371d456d7da764ca03b5b0845996289d</td>\n",
       "      <td>4.8</td>\n",
       "      <td>0.000473</td>\n",
       "      <td>True</td>\n",
       "      <td>oab/2016-19</td>\n",
       "    </tr>\n",
       "    <tr>\n",
       "      <th>3</th>\n",
       "      <td>2016-19_4</td>\n",
       "      <td>C</td>\n",
       "      <td>D</td>\n",
       "      <td>D</td>\n",
       "      <td>422</td>\n",
       "      <td>6</td>\n",
       "      <td>428</td>\n",
       "      <td>1080</td>\n",
       "      <td>2016-19</td>\n",
       "      <td>oab</td>\n",
       "      <td>us_anthropic_claude-3-5-haiku-20241022-v1:0_ze...</td>\n",
       "      <td>us.anthropic.claude-3-5-haiku-20241022-v1:0</td>\n",
       "      <td>False</td>\n",
       "      <td>2016</td>\n",
       "      <td>us_anthropic_claude-3-5-haiku-20241022-v1:0_ze...</td>\n",
       "      <td>371d456d7da764ca03b5b0845996289d</td>\n",
       "      <td>4.8</td>\n",
       "      <td>0.000362</td>\n",
       "      <td>False</td>\n",
       "      <td>oab/2016-19</td>\n",
       "    </tr>\n",
       "    <tr>\n",
       "      <th>4</th>\n",
       "      <td>2016-19_5</td>\n",
       "      <td>C</td>\n",
       "      <td>C</td>\n",
       "      <td>C</td>\n",
       "      <td>417</td>\n",
       "      <td>6</td>\n",
       "      <td>423</td>\n",
       "      <td>775</td>\n",
       "      <td>2016-19</td>\n",
       "      <td>oab</td>\n",
       "      <td>us_anthropic_claude-3-5-haiku-20241022-v1:0_ze...</td>\n",
       "      <td>us.anthropic.claude-3-5-haiku-20241022-v1:0</td>\n",
       "      <td>False</td>\n",
       "      <td>2016</td>\n",
       "      <td>us_anthropic_claude-3-5-haiku-20241022-v1:0_ze...</td>\n",
       "      <td>371d456d7da764ca03b5b0845996289d</td>\n",
       "      <td>4.8</td>\n",
       "      <td>0.000358</td>\n",
       "      <td>True</td>\n",
       "      <td>oab/2016-19</td>\n",
       "    </tr>\n",
       "  </tbody>\n",
       "</table>\n",
       "</div>"
      ],
      "text/plain": [
       "    input_id gabarito respostas respostas_raw  input_tokens  output_tokens  \\\n",
       "0  2016-19_1        D         D             D           374              6   \n",
       "1  2016-19_2        B         B             B           409              6   \n",
       "2  2016-19_3        C         C             C           561              6   \n",
       "3  2016-19_4        C         D             D           422              6   \n",
       "4  2016-19_5        C         C             C           417              6   \n",
       "\n",
       "   total_tokens  latency prova_id eval  \\\n",
       "0           380      850  2016-19  oab   \n",
       "1           415      684  2016-19  oab   \n",
       "2           567      784  2016-19  oab   \n",
       "3           428     1080  2016-19  oab   \n",
       "4           423      775  2016-19  oab   \n",
       "\n",
       "                                            model_id  \\\n",
       "0  us_anthropic_claude-3-5-haiku-20241022-v1:0_ze...   \n",
       "1  us_anthropic_claude-3-5-haiku-20241022-v1:0_ze...   \n",
       "2  us_anthropic_claude-3-5-haiku-20241022-v1:0_ze...   \n",
       "3  us_anthropic_claude-3-5-haiku-20241022-v1:0_ze...   \n",
       "4  us_anthropic_claude-3-5-haiku-20241022-v1:0_ze...   \n",
       "\n",
       "                                     model_raw  uses_cot  year  \\\n",
       "0  us.anthropic.claude-3-5-haiku-20241022-v1:0     False  2016   \n",
       "1  us.anthropic.claude-3-5-haiku-20241022-v1:0     False  2016   \n",
       "2  us.anthropic.claude-3-5-haiku-20241022-v1:0     False  2016   \n",
       "3  us.anthropic.claude-3-5-haiku-20241022-v1:0     False  2016   \n",
       "4  us.anthropic.claude-3-5-haiku-20241022-v1:0     False  2016   \n",
       "\n",
       "                                          model_name  \\\n",
       "0  us_anthropic_claude-3-5-haiku-20241022-v1:0_ze...   \n",
       "1  us_anthropic_claude-3-5-haiku-20241022-v1:0_ze...   \n",
       "2  us_anthropic_claude-3-5-haiku-20241022-v1:0_ze...   \n",
       "3  us_anthropic_claude-3-5-haiku-20241022-v1:0_ze...   \n",
       "4  us_anthropic_claude-3-5-haiku-20241022-v1:0_ze...   \n",
       "\n",
       "                         model_hash  cost  real_cost  correct    eval_full  \n",
       "0  371d456d7da764ca03b5b0845996289d   4.8   0.000323     True  oab/2016-19  \n",
       "1  371d456d7da764ca03b5b0845996289d   4.8   0.000351     True  oab/2016-19  \n",
       "2  371d456d7da764ca03b5b0845996289d   4.8   0.000473     True  oab/2016-19  \n",
       "3  371d456d7da764ca03b5b0845996289d   4.8   0.000362    False  oab/2016-19  \n",
       "4  371d456d7da764ca03b5b0845996289d   4.8   0.000358     True  oab/2016-19  "
      ]
     },
     "execution_count": 127,
     "metadata": {},
     "output_type": "execute_result"
    }
   ],
   "source": [
    "all_results = pd.DataFrame()\n",
    "\n",
    "pth = \"./results/\"\n",
    "json_files = [pos_json for pos_json in os.listdir(pth) if pos_json.endswith('.json')]\n",
    "\n",
    "for jf in json_files:\n",
    "    with open(pth + jf, 'r', encoding='utf-8') as f:\n",
    "        origin = json.load(f)\n",
    "\n",
    "        if \"results\" in origin:\n",
    "            mx = origin[\"parameters\"]['model']\n",
    "            c0 = bmm[bmm[\"Model Id\"] == mx].reset_index(drop=True)\n",
    "            c0i = float(c0[\"Preço Input 1000\"][0])\n",
    "            c0o = float(c0[\"Preço Output 1000\"][0])\n",
    "            \n",
    "            temp = pd.DataFrame(origin[\"results\"])\n",
    "            temp[\"eval\"] = str(jf).split(\"_\")[1]\n",
    "            temp['model_id'] = f\"{origin[\"model_desc\"]}\"\n",
    "            temp['model_raw'] = origin[\"parameters\"][\"model\"]\n",
    "            temp['uses_cot'] = True if origin[\"parameters\"][\"cot\"] else False\n",
    "            temp['year'] = origin[\"parameters\"][\"year\"] if origin[\"parameters\"][\"year\"] else None\n",
    "            temp['model_name'] = f\"{origin[\"model_desc\"]} - {origin[\"execution_hash\"][0:5]}\"\n",
    "            temp['model_hash'] = origin[\"execution_hash\"]\n",
    "            temp['cost'] = c0i*1000 + c0o*1000\n",
    "            temp['real_cost'] = c0i*(temp['input_tokens']/1000)+c0o*(temp['output_tokens']/1000)\n",
    "            \n",
    "            all_results = pd.concat([all_results, temp], axis=0)\n",
    "\n",
    "all_results[\"correct\"] = all_results.apply(lambda row: row[\"gabarito\"] == row[\"respostas\"], axis=1)\n",
    "all_results[\"eval_full\"] = all_results.apply(lambda row: f\"{row[\"eval\"]}/{row[\"prova_id\"] if \"prova_id\" in row else \"\"}\", axis=1)\n",
    "all_results.head()"
   ]
  },
  {
   "cell_type": "code",
   "execution_count": 128,
   "metadata": {},
   "outputs": [
    {
     "data": {
      "text/html": [
       "<div>\n",
       "<style scoped>\n",
       "    .dataframe tbody tr th:only-of-type {\n",
       "        vertical-align: middle;\n",
       "    }\n",
       "\n",
       "    .dataframe tbody tr th {\n",
       "        vertical-align: top;\n",
       "    }\n",
       "\n",
       "    .dataframe thead th {\n",
       "        text-align: right;\n",
       "    }\n",
       "</style>\n",
       "<table border=\"1\" class=\"dataframe\">\n",
       "  <thead>\n",
       "    <tr style=\"text-align: right;\">\n",
       "      <th></th>\n",
       "      <th>task</th>\n",
       "      <th>hash</th>\n",
       "      <th>description</th>\n",
       "      <th>provider</th>\n",
       "      <th>uses_cot</th>\n",
       "      <th>execution_id</th>\n",
       "      <th>model</th>\n",
       "      <th>accuracy</th>\n",
       "      <th>avg_tokens</th>\n",
       "      <th>avg_latency</th>\n",
       "      <th>latency_per_token</th>\n",
       "      <th>cost</th>\n",
       "      <th>real_cost_sum</th>\n",
       "      <th>efficiency_index</th>\n",
       "    </tr>\n",
       "  </thead>\n",
       "  <tbody>\n",
       "    <tr>\n",
       "      <th>56</th>\n",
       "      <td>enam/enam_2024</td>\n",
       "      <td>08670</td>\n",
       "      <td></td>\n",
       "      <td>anthropic</td>\n",
       "      <td>False</td>\n",
       "      <td>08670</td>\n",
       "      <td>claude-3-5-sonnet-20241022-v2:0</td>\n",
       "      <td>73.75</td>\n",
       "      <td>520.84</td>\n",
       "      <td>932.41</td>\n",
       "      <td>1.79</td>\n",
       "      <td>18.00</td>\n",
       "      <td>0.1288</td>\n",
       "      <td>0.121210</td>\n",
       "    </tr>\n",
       "    <tr>\n",
       "      <th>61</th>\n",
       "      <td>enam/enam_2024</td>\n",
       "      <td>1deb3</td>\n",
       "      <td></td>\n",
       "      <td>anthropic</td>\n",
       "      <td>False</td>\n",
       "      <td>1deb3</td>\n",
       "      <td>claude-3-5-haiku-20241022-v1:0</td>\n",
       "      <td>37.50</td>\n",
       "      <td>522.19</td>\n",
       "      <td>874.49</td>\n",
       "      <td>1.67</td>\n",
       "      <td>4.80</td>\n",
       "      <td>0.0348</td>\n",
       "      <td>0.015450</td>\n",
       "    </tr>\n",
       "    <tr>\n",
       "      <th>59</th>\n",
       "      <td>enam/enam_2024</td>\n",
       "      <td>f8d0f</td>\n",
       "      <td></td>\n",
       "      <td>anthropic</td>\n",
       "      <td>True</td>\n",
       "      <td>f8d0f</td>\n",
       "      <td>claude-3-5-haiku-20241022-v1:0 - CoT</td>\n",
       "      <td>55.00</td>\n",
       "      <td>810.98</td>\n",
       "      <td>6526.24</td>\n",
       "      <td>8.05</td>\n",
       "      <td>4.80</td>\n",
       "      <td>0.1216</td>\n",
       "      <td>0.104851</td>\n",
       "    </tr>\n",
       "    <tr>\n",
       "      <th>55</th>\n",
       "      <td>enam/enam_2024</td>\n",
       "      <td>d64d3</td>\n",
       "      <td></td>\n",
       "      <td>amazon</td>\n",
       "      <td>False</td>\n",
       "      <td>d64d3</td>\n",
       "      <td>nova-micro-v1:0</td>\n",
       "      <td>33.75</td>\n",
       "      <td>433.55</td>\n",
       "      <td>155.95</td>\n",
       "      <td>0.36</td>\n",
       "      <td>0.18</td>\n",
       "      <td>0.0012</td>\n",
       "      <td>0.243274</td>\n",
       "    </tr>\n",
       "    <tr>\n",
       "      <th>60</th>\n",
       "      <td>enam/enam_2024</td>\n",
       "      <td>36cb9</td>\n",
       "      <td></td>\n",
       "      <td>amazon</td>\n",
       "      <td>False</td>\n",
       "      <td>36cb9</td>\n",
       "      <td>nova-lite-v1:0</td>\n",
       "      <td>30.00</td>\n",
       "      <td>435.12</td>\n",
       "      <td>190.55</td>\n",
       "      <td>0.44</td>\n",
       "      <td>0.30</td>\n",
       "      <td>0.0021</td>\n",
       "      <td>0.081000</td>\n",
       "    </tr>\n",
       "    <tr>\n",
       "      <th>...</th>\n",
       "      <td>...</td>\n",
       "      <td>...</td>\n",
       "      <td>...</td>\n",
       "      <td>...</td>\n",
       "      <td>...</td>\n",
       "      <td>...</td>\n",
       "      <td>...</td>\n",
       "      <td>...</td>\n",
       "      <td>...</td>\n",
       "      <td>...</td>\n",
       "      <td>...</td>\n",
       "      <td>...</td>\n",
       "      <td>...</td>\n",
       "      <td>...</td>\n",
       "    </tr>\n",
       "    <tr>\n",
       "      <th>88</th>\n",
       "      <td>oab/2017-24</td>\n",
       "      <td>bdc8a</td>\n",
       "      <td></td>\n",
       "      <td>anthropic</td>\n",
       "      <td>True</td>\n",
       "      <td>bdc8a</td>\n",
       "      <td>claude-3-5-haiku-20241022-v1:0 - CoT</td>\n",
       "      <td>68.75</td>\n",
       "      <td>731.95</td>\n",
       "      <td>6355.40</td>\n",
       "      <td>8.68</td>\n",
       "      <td>4.80</td>\n",
       "      <td>0.1149</td>\n",
       "      <td>0.319980</td>\n",
       "    </tr>\n",
       "    <tr>\n",
       "      <th>85</th>\n",
       "      <td>oab/2017-24</td>\n",
       "      <td>1a672</td>\n",
       "      <td></td>\n",
       "      <td>amazon</td>\n",
       "      <td>False</td>\n",
       "      <td>1a672</td>\n",
       "      <td>nova-micro-v1:0</td>\n",
       "      <td>52.50</td>\n",
       "      <td>364.00</td>\n",
       "      <td>141.35</td>\n",
       "      <td>0.39</td>\n",
       "      <td>0.18</td>\n",
       "      <td>0.0010</td>\n",
       "      <td>2.215767</td>\n",
       "    </tr>\n",
       "    <tr>\n",
       "      <th>89</th>\n",
       "      <td>oab/2017-24</td>\n",
       "      <td>aeb49</td>\n",
       "      <td></td>\n",
       "      <td>amazon</td>\n",
       "      <td>False</td>\n",
       "      <td>aeb49</td>\n",
       "      <td>nova-lite-v1:0</td>\n",
       "      <td>62.50</td>\n",
       "      <td>364.00</td>\n",
       "      <td>150.15</td>\n",
       "      <td>0.41</td>\n",
       "      <td>0.30</td>\n",
       "      <td>0.0018</td>\n",
       "      <td>3.178914</td>\n",
       "    </tr>\n",
       "    <tr>\n",
       "      <th>90</th>\n",
       "      <td>oab/2017-24</td>\n",
       "      <td>3a6af</td>\n",
       "      <td></td>\n",
       "      <td>amazon</td>\n",
       "      <td>False</td>\n",
       "      <td>3a6af</td>\n",
       "      <td>nova-pro-v1:0</td>\n",
       "      <td>52.50</td>\n",
       "      <td>364.00</td>\n",
       "      <td>183.10</td>\n",
       "      <td>0.50</td>\n",
       "      <td>4.00</td>\n",
       "      <td>0.0235</td>\n",
       "      <td>0.099709</td>\n",
       "    </tr>\n",
       "    <tr>\n",
       "      <th>86</th>\n",
       "      <td>oab/2017-24</td>\n",
       "      <td>84340</td>\n",
       "      <td></td>\n",
       "      <td>amazon</td>\n",
       "      <td>True</td>\n",
       "      <td>84340</td>\n",
       "      <td>nova-lite-v1:0 - CoT</td>\n",
       "      <td>57.50</td>\n",
       "      <td>730.08</td>\n",
       "      <td>3100.80</td>\n",
       "      <td>4.25</td>\n",
       "      <td>0.30</td>\n",
       "      <td>0.0085</td>\n",
       "      <td>2.095164</td>\n",
       "    </tr>\n",
       "  </tbody>\n",
       "</table>\n",
       "<p>91 rows × 14 columns</p>\n",
       "</div>"
      ],
      "text/plain": [
       "              task   hash description   provider  uses_cot execution_id  \\\n",
       "56  enam/enam_2024  08670              anthropic     False        08670   \n",
       "61  enam/enam_2024  1deb3              anthropic     False        1deb3   \n",
       "59  enam/enam_2024  f8d0f              anthropic      True        f8d0f   \n",
       "55  enam/enam_2024  d64d3                 amazon     False        d64d3   \n",
       "60  enam/enam_2024  36cb9                 amazon     False        36cb9   \n",
       "..             ...    ...         ...        ...       ...          ...   \n",
       "88     oab/2017-24  bdc8a              anthropic      True        bdc8a   \n",
       "85     oab/2017-24  1a672                 amazon     False        1a672   \n",
       "89     oab/2017-24  aeb49                 amazon     False        aeb49   \n",
       "90     oab/2017-24  3a6af                 amazon     False        3a6af   \n",
       "86     oab/2017-24  84340                 amazon      True        84340   \n",
       "\n",
       "                                   model  accuracy  avg_tokens  avg_latency  \\\n",
       "56       claude-3-5-sonnet-20241022-v2:0     73.75      520.84       932.41   \n",
       "61        claude-3-5-haiku-20241022-v1:0     37.50      522.19       874.49   \n",
       "59  claude-3-5-haiku-20241022-v1:0 - CoT     55.00      810.98      6526.24   \n",
       "55                       nova-micro-v1:0     33.75      433.55       155.95   \n",
       "60                        nova-lite-v1:0     30.00      435.12       190.55   \n",
       "..                                   ...       ...         ...          ...   \n",
       "88  claude-3-5-haiku-20241022-v1:0 - CoT     68.75      731.95      6355.40   \n",
       "85                       nova-micro-v1:0     52.50      364.00       141.35   \n",
       "89                        nova-lite-v1:0     62.50      364.00       150.15   \n",
       "90                         nova-pro-v1:0     52.50      364.00       183.10   \n",
       "86                  nova-lite-v1:0 - CoT     57.50      730.08      3100.80   \n",
       "\n",
       "    latency_per_token   cost  real_cost_sum  efficiency_index  \n",
       "56               1.79  18.00         0.1288          0.121210  \n",
       "61               1.67   4.80         0.0348          0.015450  \n",
       "59               8.05   4.80         0.1216          0.104851  \n",
       "55               0.36   0.18         0.0012          0.243274  \n",
       "60               0.44   0.30         0.0021          0.081000  \n",
       "..                ...    ...            ...               ...  \n",
       "88               8.68   4.80         0.1149          0.319980  \n",
       "85               0.39   0.18         0.0010          2.215767  \n",
       "89               0.41   0.30         0.0018          3.178914  \n",
       "90               0.50   4.00         0.0235          0.099709  \n",
       "86               4.25   0.30         0.0085          2.095164  \n",
       "\n",
       "[91 rows x 14 columns]"
      ]
     },
     "execution_count": 128,
     "metadata": {},
     "output_type": "execute_result"
    }
   ],
   "source": [
    "benchmark_table = {\n",
    "    \"task\": [],\n",
    "    \"hash\": [],\n",
    "    \"description\": [],\n",
    "    \"provider\": [],\n",
    "    \"uses_cot\": [],\n",
    "    \"execution_id\": [],\n",
    "    \"model\": [],\n",
    "    \"accuracy\": [],\n",
    "    \"avg_tokens\": [],\n",
    "    \"avg_latency\": [],\n",
    "    \"latency_per_token\": [],\n",
    "    \"cost\": [],\n",
    "    \"real_cost_sum\": []\n",
    "}\n",
    "\n",
    "for task in list(all_results[\"eval_full\"].unique()):\n",
    "    tdf = all_results[all_results[\"eval_full\"] == task].reset_index(drop=True)\n",
    "    \n",
    "    for model in tdf[\"model_name\"].unique():\n",
    "        m0 = model.split(\" - \")[0]\n",
    "        execution_id = model.split(\" - \")[1]\n",
    "        uses_cot = \"cot\" in m0.split(\"_\")\n",
    "        provider = m0.split(\"_\")[1]\n",
    "        model_idx = m0.split(\"_\")[2]\n",
    "        hashid = model.split(\" - \")[-1]\n",
    "\n",
    "        benchmark_table[\"task\"].append(task)\n",
    "        benchmark_table[\"hash\"].append(hashid)\n",
    "        benchmark_table[\"description\"].append(\"\")\n",
    "        benchmark_table[\"provider\"].append(provider)\n",
    "        benchmark_table[\"uses_cot\"].append(uses_cot)\n",
    "        benchmark_table[\"execution_id\"].append(execution_id)\n",
    "        benchmark_table[\"model\"].append(f\"{model_idx}{\" - CoT\" if uses_cot else \"\"}\")\n",
    "\n",
    "        mdf = tdf[tdf[\"model_name\"] == model].reset_index(drop=True)\n",
    "\n",
    "        benchmark_table[\"accuracy\"].append(round(100*(len(mdf[mdf[\"correct\"]] == True)/len(mdf)),2))\n",
    "        benchmark_table[\"avg_tokens\"].append(round(mdf[\"total_tokens\"].mean(), 2))\n",
    "        benchmark_table[\"avg_latency\"].append(round(mdf[\"latency\"].mean(), 2))\n",
    "        benchmark_table[\"latency_per_token\"].append(round(mdf[\"latency\"].mean()/mdf[\"total_tokens\"].mean(), 2))\n",
    "        benchmark_table[\"cost\"].append(round(mdf[\"cost\"].mean(), 2))\n",
    "        benchmark_table[\"real_cost_sum\"].append(round(mdf[\"real_cost\"].sum(), 4))\n",
    "\n",
    "df_benchmark_table = pd.DataFrame(benchmark_table)\n",
    "\n",
    "df_benchmark_table['efficiency_index'] = df_benchmark_table['accuracy'].apply(lambda x: x**5)/(10 ** 9)\n",
    "df_benchmark_table['efficiency_index'] = df_benchmark_table['efficiency_index'] / df_benchmark_table['cost']\n",
    "df_benchmark_table = df_benchmark_table.sort_values(by=[\"task\", \"provider\",\"uses_cot\"], ascending=[True, False, True])\n",
    "df_benchmark_table"
   ]
  },
  {
   "cell_type": "code",
   "execution_count": 129,
   "metadata": {},
   "outputs": [
    {
     "name": "stdout",
     "output_type": "stream",
     "text": [
      "| task           |   claude-3-5-haiku-20241022-v1:0 |   claude-3-5-haiku-20241022-v1:0 - CoT |   claude-3-5-sonnet-20241022-v2:0 |   nova-lite-v1:0 |   nova-lite-v1:0 - CoT |   nova-micro-v1:0 |   nova-micro-v1:0 - CoT |   nova-pro-v1:0 |   nova-pro-v1:0 - CoT |\n",
      "|:---------------|---------------------------------:|---------------------------------------:|----------------------------------:|-----------------:|-----------------------:|------------------:|------------------------:|----------------:|----------------------:|\n",
      "| enam/enam_2024 |                          37.5    |                                55      |                            73.75  |          30      |                30      |           33.75   |                 43.75   |         46.25   |                46.25  |\n",
      "| enem/2022      |                          63.13   |                                81.01   |                            75.98  |          67.04   |                76.54   |           64.8    |                 76.54   |         72.63   |                82.68  |\n",
      "| enem/2023      |                          60.34   |                                86.59   |                            79.89  |          74.3    |                80.45   |           69.27   |                 76.54   |         76.54   |                84.92  |\n",
      "| enem/2024      |                          63.13   |                                81.56   |                            82.12  |          71.51   |                78.77   |           64.25   |                 78.77   |         77.09   |                89.39  |\n",
      "| mmmlu/mmmlu    |                          62.14   |                                75.71   |                            82.14  |          62.86   |                76.43   |           58.57   |                 67.14   |         72.86   |                79.29  |\n",
      "| oab/2016-19    |                          58.97   |                                60.26   |                           nan     |          53.85   |                58.97   |           50      |                 51.28   |         62.82   |               nan     |\n",
      "| oab/2016-20    |                          68.75   |                                67.5    |                           nan     |          63.75   |                62.5    |           47.5    |                 47.5    |         61.25   |               nan     |\n",
      "| oab/2016-20a   |                          53.75   |                                60      |                           nan     |          52.5    |                50      |           40      |                 41.25   |         56.25   |               nan     |\n",
      "| oab/2016-21    |                          56.25   |                                58.75   |                           nan     |          52.5    |                51.25   |           41.25   |                 37.5    |         53.75   |               nan     |\n",
      "| oab/2017-22    |                          68.75   |                                66.25   |                           nan     |          62.5    |                58.75   |           57.5    |                nan      |         68.75   |               nan     |\n",
      "| oab/2017-23    |                          53.75   |                                52.5    |                           nan     |          43.75   |                46.25   |           51.25   |                nan      |         55      |               nan     |\n",
      "| oab/2017-24    |                          65      |                                68.75   |                           nan     |          62.5    |                57.5    |           52.5    |                nan      |         52.5    |               nan     |\n",
      "| AVG            |                          59.2883 |                                67.8233 |                            78.776 |          58.0883 |                60.6175 |           52.5533 |                 57.8078 |         62.9742 |                76.506 |\n",
      "|    | task           | hash   | description   | provider   | uses_cot   | execution_id   | model                                |   accuracy |   avg_tokens |   avg_latency |   latency_per_token |   cost |   real_cost_sum |   efficiency_index |\n",
      "|---:|:---------------|:-------|:--------------|:-----------|:-----------|:---------------|:-------------------------------------|-----------:|-------------:|--------------:|--------------------:|-------:|----------------:|-------------------:|\n",
      "| 56 | enam/enam_2024 | 08670  |               | anthropic  | False      | 08670          | claude-3-5-sonnet-20241022-v2:0      |      73.75 |       520.84 |        932.41 |                1.79 |  18    |          0.1288 |          0.12121   |\n",
      "| 61 | enam/enam_2024 | 1deb3  |               | anthropic  | False      | 1deb3          | claude-3-5-haiku-20241022-v1:0       |      37.5  |       522.19 |        874.49 |                1.67 |   4.8  |          0.0348 |          0.0154495 |\n",
      "| 59 | enam/enam_2024 | f8d0f  |               | anthropic  | True       | f8d0f          | claude-3-5-haiku-20241022-v1:0 - CoT |      55    |       810.98 |       6526.24 |                8.05 |   4.8  |          0.1216 |          0.104851  |\n",
      "| 55 | enam/enam_2024 | d64d3  |               | amazon     | False      | d64d3          | nova-micro-v1:0                      |      33.75 |       433.55 |        155.95 |                0.36 |   0.18 |          0.0012 |          0.243274  |\n",
      "| 60 | enam/enam_2024 | 36cb9  |               | amazon     | False      | 36cb9          | nova-lite-v1:0                       |      30    |       435.12 |        190.55 |                0.44 |   0.3  |          0.0021 |          0.081     |\n",
      "| 63 | enam/enam_2024 | 227fc  |               | amazon     | False      | 227fc          | nova-pro-v1:0                        |      46.25 |       433.55 |        192.32 |                0.44 |   4    |          0.0279 |          0.0529052 |\n",
      "| 57 | enam/enam_2024 | 6a5a5  |               | amazon     | True       | 6a5a5          | nova-lite-v1:0 - CoT                 |      30    |       856.95 |       3572.7  |                4.17 |   0.3  |          0.01   |          0.081     |\n",
      "| 58 | enam/enam_2024 | 065c8  |               | amazon     | True       | 065c8          | nova-micro-v1:0 - CoT                |      43.75 |       887.19 |       2764.7  |                3.12 |   0.18 |          0.0062 |          0.890467  |\n",
      "| 62 | enam/enam_2024 | 90fb0  |               | amazon     | True       | 90fb0          | nova-pro-v1:0 - CoT                  |      46.25 |       817.95 |       4995.82 |                6.11 |   4    |          0.1229 |          0.0529052 |\n",
      "| 50 | enem/2022      | e2b50  |               | anthropic  | False      | e2b50          | claude-3-5-haiku-20241022-v1:0       |      63.13 |       455.21 |        825.7  |                1.81 |   4.8  |          0.0658 |          0.2089    |\n",
      "| 54 | enem/2022      | f733b  |               | anthropic  | False      | f733b          | claude-3-5-sonnet-20241022-v2:0      |      75.98 |       455.21 |        862.34 |                1.89 |  18    |          0.2466 |          0.140677  |\n",
      "| 46 | enem/2022      | 17457  |               | anthropic  | True       | 17457          | claude-3-5-haiku-20241022-v1:0 - CoT |      81.01 |       747.15 |       6678.71 |                8.94 |   4.8  |          0.261  |          0.726862  |\n",
      "| 48 | enem/2022      | 8a924  |               | amazon     | False      | 8a924          | nova-pro-v1:0                        |      72.63 |       382.17 |        163.28 |                0.43 |   4    |          0.0552 |          0.505266  |\n",
      "| 49 | enem/2022      | 8a4b6  |               | amazon     | False      | 8a4b6          | nova-micro-v1:0                      |      64.8  |       382.17 |        146.74 |                0.38 |   0.18 |          0.0024 |          6.3475    |\n",
      "| 52 | enem/2022      | 24535  |               | amazon     | False      | 24535          | nova-lite-v1:0                       |      67.04 |       382.17 |        160.54 |                0.42 |   0.3  |          0.0041 |          4.51387   |\n",
      "| 47 | enem/2022      | 67319  |               | amazon     | True       | 67319          | nova-pro-v1:0 - CoT                  |      82.68 |       679.42 |       3811.89 |                5.61 |   4    |          0.2164 |          0.965923  |\n",
      "| 51 | enem/2022      | 2f418  |               | amazon     | True       | 2f418          | nova-lite-v1:0 - CoT                 |      76.54 |       758.89 |       2983.89 |                3.93 |   0.3  |          0.0196 |          8.75631   |\n",
      "| 53 | enem/2022      | eb1f0  |               | amazon     | True       | eb1f0          | nova-micro-v1:0 - CoT                |      76.54 |       809.2  |       2583.49 |                3.19 |   0.18 |          0.0127 |         14.5938    |\n",
      "| 67 | enem/2023      | 0f773  |               | anthropic  | False      | 0f773          | claude-3-5-haiku-20241022-v1:0       |      60.34 |       427.46 |        801.2  |                1.87 |   4.8  |          0.0618 |          0.166642  |\n",
      "| 69 | enem/2023      | bbeae  |               | anthropic  | False      | bbeae          | claude-3-5-sonnet-20241022-v2:0      |      79.89 |       430.46 |        868.85 |                2.02 |  18    |          0.2398 |          0.180796  |\n",
      "| 66 | enem/2023      | df1a8  |               | anthropic  | True       | df1a8          | claude-3-5-haiku-20241022-v1:0 - CoT |      86.59 |       712.54 |       5973.68 |                8.38 |   4.8  |          0.2522 |          1.01414   |\n",
      "| 64 | enem/2023      | be6cd  |               | amazon     | False      | be6cd          | nova-pro-v1:0                        |      76.54 |       356.42 |        163.44 |                0.46 |   4    |          0.0515 |          0.656723  |\n",
      "| 68 | enem/2023      | c8343  |               | amazon     | False      | c8343          | nova-micro-v1:0                      |      69.27 |       356.42 |        137.72 |                0.39 |   0.18 |          0.0023 |          8.8604    |\n",
      "| 71 | enem/2023      | 424e8  |               | amazon     | False      | 424e8          | nova-lite-v1:0                       |      74.3  |       356.42 |        148.92 |                0.42 |   0.3  |          0.0039 |          7.54784   |\n",
      "| 65 | enem/2023      | 1ffba  |               | amazon     | True       | 1ffba          | nova-pro-v1:0 - CoT                  |      84.92 |       626.07 |       3416.89 |                5.46 |   4    |          0.1969 |          1.10405   |\n",
      "| 70 | enem/2023      | c5a3c  |               | amazon     | True       | c5a3c          | nova-lite-v1:0 - CoT                 |      80.45 |       716.61 |       2850.37 |                3.98 |   0.3  |          0.0187 |         11.2333    |\n",
      "| 72 | enem/2023      | 94e94  |               | amazon     | True       | 94e94          | nova-micro-v1:0 - CoT                |      76.54 |       760.77 |       2449.39 |                3.22 |   0.18 |          0.012  |         14.5938    |\n",
      "| 42 | enem/2024      | aa945  |               | anthropic  | False      | aa945          | claude-3-5-haiku-20241022-v1:0       |      63.13 |       453.89 |        856.78 |                1.89 |   4.8  |          0.0656 |          0.2089    |\n",
      "| 45 | enem/2024      | 3938b  |               | anthropic  | False      | 3938b          | claude-3-5-sonnet-20241022-v2:0      |      82.12 |       457.69 |        902.21 |                1.97 |  18    |          0.2561 |          0.207478  |\n",
      "| 40 | enem/2024      | 16413  |               | anthropic  | True       | 16413          | claude-3-5-haiku-20241022-v1:0 - CoT |      81.56 |       737.98 |       5978.13 |                8.1  |   4.8  |          0.2552 |          0.751874  |\n",
      "| 37 | enem/2024      | b2cf7  |               | amazon     | False      | b2cf7          | nova-lite-v1:0                       |      71.51 |       377.8  |        151.66 |                0.4  |   0.3  |          0.0041 |          6.23322   |\n",
      "| 39 | enem/2024      | 977f3  |               | amazon     | False      | 977f3          | nova-pro-v1:0                        |      77.09 |       377.8  |        164.09 |                0.43 |   4    |          0.0545 |          0.68066   |\n",
      "| 41 | enem/2024      | e29d1  |               | amazon     | False      | e29d1          | nova-micro-v1:0                      |      64.25 |       377.8  |        133.43 |                0.35 |   0.18 |          0.0024 |          6.08265   |\n",
      "| 38 | enem/2024      | 3897e  |               | amazon     | True       | 3897e          | nova-lite-v1:0 - CoT                 |      78.77 |       738.15 |       2871.39 |                3.89 |   0.3  |          0.0189 |         10.1084    |\n",
      "| 43 | enem/2024      | ecec3  |               | amazon     | True       | ecec3          | nova-pro-v1:0 - CoT                  |      89.39 |       648.55 |       3508.21 |                5.41 |   4    |          0.2006 |          1.42687   |\n",
      "| 44 | enem/2024      | c578c  |               | amazon     | True       | c578c          | nova-micro-v1:0 - CoT                |      78.77 |       781.8  |       2438.78 |                3.12 |   0.18 |          0.0121 |         16.8474    |\n",
      "| 28 | mmmlu/mmmlu    | 24853  |               | anthropic  | False      | 24853          | claude-3-5-haiku-20241022-v1:0       |      62.14 |       243.13 |       1091.38 |                4.49 |   4.8  |          0.034  |          0.193026  |\n",
      "| 36 | mmmlu/mmmlu    | f18bb  |               | anthropic  | False      | f18bb          | claude-3-5-sonnet-20241022-v2:0      |      82.14 |       232.09 |        803.82 |                3.46 |  18    |          0.1042 |          0.207731  |\n",
      "| 32 | mmmlu/mmmlu    | ab183  |               | anthropic  | True       | ab183          | claude-3-5-haiku-20241022-v1:0 - CoT |      75.71 |       498.58 |       5795.21 |               11.62 |   4.8  |          0.1663 |          0.518233  |\n",
      "| 30 | mmmlu/mmmlu    | c5b4b  |               | amazon     | False      | c5b4b          | nova-lite-v1:0                       |      62.86 |       188.57 |        172.58 |                0.92 |   0.3  |          0.0016 |          3.27153   |\n",
      "| 31 | mmmlu/mmmlu    | 5ab15  |               | amazon     | False      | 5ab15          | nova-micro-v1:0                      |      58.57 |       188.18 |        157.29 |                0.84 |   0.18 |          0.0009 |          3.82916   |\n",
      "| 35 | mmmlu/mmmlu    | 695e0  |               | amazon     | False      | 695e0          | nova-pro-v1:0                        |      72.86 |       188.18 |        188.64 |                1    |   4    |          0.0214 |          0.513317  |\n",
      "| 29 | mmmlu/mmmlu    | c9274  |               | amazon     | True       | c9274          | nova-pro-v1:0 - CoT                  |      79.29 |       458.97 |       3500.98 |                7.63 |   4    |          0.1357 |          0.783488  |\n",
      "| 33 | mmmlu/mmmlu    | d3bd4  |               | amazon     | True       | d3bd4          | nova-micro-v1:0 - CoT                |      67.14 |       548.79 |       2181.91 |                3.98 |   0.18 |          0.0077 |          7.57939   |\n",
      "| 34 | mmmlu/mmmlu    | 9c92c  |               | amazon     | True       | 9c92c          | nova-lite-v1:0 - CoT                 |      76.43 |       476.84 |       2315.76 |                4.86 |   0.3  |          0.0108 |          8.69357   |\n",
      "|  0 | oab/2016-19    | 371d4  |               | anthropic  | False      | 371d4          | claude-3-5-haiku-20241022-v1:0       |      58.97 |       422.19 |        880.46 |                2.09 |   4.8  |          0.0278 |          0.148564  |\n",
      "|  3 | oab/2016-19    | 94ae7  |               | anthropic  | True       | 94ae7          | claude-3-5-haiku-20241022-v1:0 - CoT |      60.26 |       706.5  |       6615.62 |                9.36 |   4.8  |          0.1106 |          0.165541  |\n",
      "|  4 | oab/2016-19    | 6a7bc  |               | amazon     | False      | 6a7bc          | nova-lite-v1:0                       |      53.85 |       342.54 |        171.09 |                0.5  |   0.3  |          0.0016 |          1.50941   |\n",
      "|  5 | oab/2016-19    | e1389  |               | amazon     | False      | e1389          | nova-pro-v1:0                        |      62.82 |       342.54 |        180.86 |                0.53 |   4    |          0.0216 |          0.244585  |\n",
      "|  6 | oab/2016-19    | fec56  |               | amazon     | False      | fec56          | nova-micro-v1:0                      |      50    |       342.54 |        159.37 |                0.47 |   0.18 |          0.0009 |          1.73611   |\n",
      "|  1 | oab/2016-19    | 91de2  |               | amazon     | True       | 91de2          | nova-micro-v1:0 - CoT                |      51.28 |       771.12 |       2617.92 |                3.39 |   0.18 |          0.0055 |          1.97001   |\n",
      "|  2 | oab/2016-19    | 85bd9  |               | amazon     | True       | 85bd9          | nova-lite-v1:0 - CoT                 |      58.97 |       721.1  |       3273.42 |                4.54 |   0.3  |          0.0084 |          2.37703   |\n",
      "|  7 | oab/2016-20    | 371d4  |               | anthropic  | False      | 371d4          | claude-3-5-haiku-20241022-v1:0       |      68.75 |       439    |        886.18 |                2.02 |   4.8  |          0.0296 |          0.31998   |\n",
      "| 10 | oab/2016-20    | 94ae7  |               | anthropic  | True       | 94ae7          | claude-3-5-haiku-20241022-v1:0 - CoT |      67.5  |       720.88 |       6649.1  |                9.22 |   4.8  |          0.1137 |          0.291929  |\n",
      "| 11 | oab/2016-20    | 6a7bc  |               | amazon     | False      | 6a7bc          | nova-lite-v1:0                       |      63.75 |       356.96 |        168.18 |                0.47 |   0.3  |          0.0017 |          3.50978   |\n",
      "| 12 | oab/2016-20    | e1389  |               | amazon     | False      | e1389          | nova-pro-v1:0                        |      61.25 |       356.96 |        180.6  |                0.51 |   4    |          0.023  |          0.215512  |\n",
      "| 13 | oab/2016-20    | fec56  |               | amazon     | False      | fec56          | nova-micro-v1:0                      |      47.5  |       356.96 |        162.24 |                0.45 |   0.18 |          0.001  |          1.34337   |\n",
      "|  8 | oab/2016-20    | 91de2  |               | amazon     | True       | 91de2          | nova-micro-v1:0 - CoT                |      47.5  |       780.25 |       2585.07 |                3.31 |   0.18 |          0.0056 |          1.34337   |\n",
      "|  9 | oab/2016-20    | 85bd9  |               | amazon     | True       | 85bd9          | nova-lite-v1:0 - CoT                 |      62.5  |       720.85 |       3111.89 |                4.32 |   0.3  |          0.0084 |          3.17891   |\n",
      "| 14 | oab/2016-20a   | 371d4  |               | anthropic  | False      | 371d4          | claude-3-5-haiku-20241022-v1:0       |      53.75 |       412.18 |        828.38 |                2.01 |   4.8  |          0.0279 |          0.0934655 |\n",
      "| 17 | oab/2016-20a   | 94ae7  |               | anthropic  | True       | 94ae7          | claude-3-5-haiku-20241022-v1:0 - CoT |      60    |       692.78 |       6557.5  |                9.47 |   4.8  |          0.1116 |          0.162     |\n",
      "| 18 | oab/2016-20a   | 6a7bc  |               | amazon     | False      | 6a7bc          | nova-lite-v1:0                       |      52.5  |       332.64 |        160.55 |                0.48 |   0.3  |          0.0016 |          1.32946   |\n",
      "| 19 | oab/2016-20a   | e1389  |               | amazon     | False      | e1389          | nova-pro-v1:0                        |      56.25 |       332.64 |        180    |                0.54 |   4    |          0.0215 |          0.140784  |\n",
      "| 20 | oab/2016-20a   | fec56  |               | amazon     | False      | fec56          | nova-micro-v1:0                      |      40    |       332.64 |        153.85 |                0.46 |   0.18 |          0.0009 |          0.568889  |\n",
      "| 15 | oab/2016-20a   | 91de2  |               | amazon     | True       | 91de2          | nova-micro-v1:0 - CoT                |      41.25 |       763.45 |       2605.93 |                3.41 |   0.18 |          0.0056 |          0.66351   |\n",
      "| 16 | oab/2016-20a   | 85bd9  |               | amazon     | True       | 85bd9          | nova-lite-v1:0 - CoT                 |      50    |       696.69 |       3111.64 |                4.47 |   0.3  |          0.0083 |          1.04167   |\n",
      "| 21 | oab/2016-21    | 371d4  |               | anthropic  | False      | 371d4          | claude-3-5-haiku-20241022-v1:0       |      56.25 |       427.98 |        852.86 |                1.99 |   4.8  |          0.0289 |          0.11732   |\n",
      "| 24 | oab/2016-21    | 94ae7  |               | anthropic  | True       | 94ae7          | claude-3-5-haiku-20241022-v1:0 - CoT |      58.75 |       711.05 |       6417.51 |                9.03 |   4.8  |          0.1134 |          0.145814  |\n",
      "| 25 | oab/2016-21    | 6a7bc  |               | amazon     | False      | 6a7bc          | nova-lite-v1:0                       |      52.5  |       346.34 |        154.52 |                0.45 |   0.3  |          0.0017 |          1.32946   |\n",
      "| 26 | oab/2016-21    | e1389  |               | amazon     | False      | e1389          | nova-pro-v1:0                        |      53.75 |       346.34 |        177.24 |                0.51 |   4    |          0.0224 |          0.112159  |\n",
      "| 27 | oab/2016-21    | fec56  |               | amazon     | False      | fec56          | nova-micro-v1:0                      |      41.25 |       346.34 |        151.52 |                0.44 |   0.18 |          0.001  |          0.66351   |\n",
      "| 22 | oab/2016-21    | 91de2  |               | amazon     | True       | 91de2          | nova-micro-v1:0 - CoT                |      37.5  |       765.96 |       2565.46 |                3.35 |   0.18 |          0.0055 |          0.411987  |\n",
      "| 23 | oab/2016-21    | 85bd9  |               | amazon     | True       | 85bd9          | nova-lite-v1:0 - CoT                 |      51.25 |       718.16 |       3165.01 |                4.41 |   0.3  |          0.0085 |          1.17855   |\n",
      "| 75 | oab/2017-22    | 98733  |               | anthropic  | False      | 98733          | claude-3-5-haiku-20241022-v1:0       |      68.75 |       449.5  |        920.55 |                2.05 |   4.8  |          0.0303 |          0.31998   |\n",
      "| 76 | oab/2017-22    | bdc8a  |               | anthropic  | True       | bdc8a          | claude-3-5-haiku-20241022-v1:0 - CoT |      66.25 |       731.18 |       6582.51 |                9    |   4.8  |          0.1143 |          0.265882  |\n",
      "| 73 | oab/2017-22    | 1a672  |               | amazon     | False      | 1a672          | nova-micro-v1:0                      |      57.5  |       365.22 |        150.41 |                0.41 |   0.18 |          0.001  |          3.49194   |\n",
      "| 77 | oab/2017-22    | aeb49  |               | amazon     | False      | aeb49          | nova-lite-v1:0                       |      62.5  |       365.3  |        153.59 |                0.42 |   0.3  |          0.0018 |          3.17891   |\n",
      "| 78 | oab/2017-22    | 3a6af  |               | amazon     | False      | 3a6af          | nova-pro-v1:0                        |      68.75 |       365.22 |        185.42 |                0.51 |   4    |          0.0236 |          0.383976  |\n",
      "| 74 | oab/2017-22    | 84340  |               | amazon     | True       | 84340          | nova-lite-v1:0 - CoT                 |      58.75 |       731.45 |       3159.94 |                4.32 |   0.3  |          0.0085 |          2.33302   |\n",
      "| 81 | oab/2017-23    | 98733  |               | anthropic  | False      | 98733          | claude-3-5-haiku-20241022-v1:0       |      53.75 |       450.52 |        884.32 |                1.96 |   4.8  |          0.0304 |          0.0934655 |\n",
      "| 82 | oab/2017-23    | bdc8a  |               | anthropic  | True       | bdc8a          | claude-3-5-haiku-20241022-v1:0 - CoT |      52.5  |       733.31 |       6526.72 |                8.9  |   4.8  |          0.1147 |          0.0830912 |\n",
      "| 79 | oab/2017-23    | 1a672  |               | amazon     | False      | 1a672          | nova-micro-v1:0                      |      51.25 |       365.34 |        144.2  |                0.39 |   0.18 |          0.001  |          1.96425   |\n",
      "| 83 | oab/2017-23    | aeb49  |               | amazon     | False      | aeb49          | nova-lite-v1:0                       |      43.75 |       365.34 |        149.05 |                0.41 |   0.3  |          0.0018 |          0.53428   |\n",
      "| 84 | oab/2017-23    | 3a6af  |               | amazon     | False      | 3a6af          | nova-pro-v1:0                        |      55    |       365.34 |        223.31 |                0.61 |   4    |          0.0236 |          0.125821  |\n",
      "| 80 | oab/2017-23    | 84340  |               | amazon     | True       | 84340          | nova-lite-v1:0 - CoT                 |      46.25 |       734.05 |       3227.21 |                4.4  |   0.3  |          0.0085 |          0.705403  |\n",
      "| 87 | oab/2017-24    | 98733  |               | anthropic  | False      | 98733          | claude-3-5-haiku-20241022-v1:0       |      65    |       447.98 |        834    |                1.86 |   4.8  |          0.0302 |          0.241727  |\n",
      "| 88 | oab/2017-24    | bdc8a  |               | anthropic  | True       | bdc8a          | claude-3-5-haiku-20241022-v1:0 - CoT |      68.75 |       731.95 |       6355.4  |                8.68 |   4.8  |          0.1149 |          0.31998   |\n",
      "| 85 | oab/2017-24    | 1a672  |               | amazon     | False      | 1a672          | nova-micro-v1:0                      |      52.5  |       364    |        141.35 |                0.39 |   0.18 |          0.001  |          2.21577   |\n",
      "| 89 | oab/2017-24    | aeb49  |               | amazon     | False      | aeb49          | nova-lite-v1:0                       |      62.5  |       364    |        150.15 |                0.41 |   0.3  |          0.0018 |          3.17891   |\n",
      "| 90 | oab/2017-24    | 3a6af  |               | amazon     | False      | 3a6af          | nova-pro-v1:0                        |      52.5  |       364    |        183.1  |                0.5  |   4    |          0.0235 |          0.0997095 |\n",
      "| 86 | oab/2017-24    | 84340  |               | amazon     | True       | 84340          | nova-lite-v1:0 - CoT                 |      57.5  |       730.08 |       3100.8  |                4.25 |   0.3  |          0.0085 |          2.09516   |\n"
     ]
    }
   ],
   "source": [
    "df_benchmark_table_reduced = df_benchmark_table[df_benchmark_table[\"model\"] != \"deepseek-r1-8b-v1:0\"]\n",
    "\n",
    "out = df_benchmark_table_reduced.pivot(index=['task'], columns='model', values='accuracy')\n",
    "out.loc['AVG']= out.mean(numeric_only=True, axis=0)\n",
    "\n",
    "print(out.to_markdown())\n",
    "print(df_benchmark_table.to_markdown())\n",
    "\n",
    "with open(pth_mkd_readme, mode=\"r\", encoding=\"utf-8\") as f:\n",
    "    x = f.read()\n",
    "\n",
    "# Escreve tabela resumo\n",
    "mkd = x.split(\"<!-- START - Tabela Resumo -->\")[0]\n",
    "mkd = mkd + \"<!-- START - Tabela Resumo -->\\n\" + out.to_markdown()\n",
    "mkd = mkd + \"\\n<!-- END - Tabela Resumo -->\" + x.split(\"<!-- END - Tabela Resumo -->\")[1]\n",
    "\n",
    "mkd = mkd.split(\"<!-- START - Tabela Detalhada -->\")[0]\n",
    "mkd = mkd + \"<!-- START - Tabela Detalhada -->\\n\" + df_benchmark_table.to_markdown()\n",
    "mkd = mkd + \"\\n<!-- END - Tabela Detalhada -->\" + x.split(\"<!-- END - Tabela Detalhada -->\")[1]\n",
    "\n",
    "with open(pth_mkd_readme, mode=\"w\", encoding=\"utf-8\") as f:\n",
    "    f.write(mkd)"
   ]
  },
  {
   "cell_type": "code",
   "execution_count": 130,
   "metadata": {},
   "outputs": [
    {
     "data": {
      "application/vnd.plotly.v1+json": {
       "config": {
        "plotlyServerURL": "https://plot.ly"
       },
       "data": [
        {
         "hovertemplate": "model=claude-3-5-haiku-20241022-v1:0<br>score=%{r}<br>task=%{theta}<extra></extra>",
         "legendgroup": "claude-3-5-haiku-20241022-v1:0",
         "line": {
          "color": "#636efa",
          "dash": "solid"
         },
         "marker": {
          "symbol": "circle"
         },
         "mode": "lines+markers",
         "name": "claude-3-5-haiku-20241022-v1:0",
         "r": [
          37.5,
          63.13,
          60.34,
          63.13,
          62.14,
          58.97,
          68.75,
          53.75,
          56.25,
          68.75,
          53.75,
          65,
          59.288333333333334,
          37.5
         ],
         "showlegend": true,
         "subplot": "polar",
         "theta": [
          "enam/enam_2024",
          "enem/2022",
          "enem/2023",
          "enem/2024",
          "mmmlu/mmmlu",
          "oab/2016-19",
          "oab/2016-20",
          "oab/2016-20a",
          "oab/2016-21",
          "oab/2017-22",
          "oab/2017-23",
          "oab/2017-24",
          "AVG",
          "enam/enam_2024"
         ],
         "type": "scatterpolar"
        },
        {
         "hovertemplate": "model=claude-3-5-haiku-20241022-v1:0 - CoT<br>score=%{r}<br>task=%{theta}<extra></extra>",
         "legendgroup": "claude-3-5-haiku-20241022-v1:0 - CoT",
         "line": {
          "color": "#EF553B",
          "dash": "solid"
         },
         "marker": {
          "symbol": "circle"
         },
         "mode": "lines+markers",
         "name": "claude-3-5-haiku-20241022-v1:0 - CoT",
         "r": [
          55,
          81.01,
          86.59,
          81.56,
          75.71,
          60.26,
          67.5,
          60,
          58.75,
          66.25,
          52.5,
          68.75,
          67.82333333333334,
          55
         ],
         "showlegend": true,
         "subplot": "polar",
         "theta": [
          "enam/enam_2024",
          "enem/2022",
          "enem/2023",
          "enem/2024",
          "mmmlu/mmmlu",
          "oab/2016-19",
          "oab/2016-20",
          "oab/2016-20a",
          "oab/2016-21",
          "oab/2017-22",
          "oab/2017-23",
          "oab/2017-24",
          "AVG",
          "enam/enam_2024"
         ],
         "type": "scatterpolar"
        },
        {
         "hovertemplate": "model=claude-3-5-sonnet-20241022-v2:0<br>score=%{r}<br>task=%{theta}<extra></extra>",
         "legendgroup": "claude-3-5-sonnet-20241022-v2:0",
         "line": {
          "color": "#00cc96",
          "dash": "solid"
         },
         "marker": {
          "symbol": "circle"
         },
         "mode": "lines+markers",
         "name": "claude-3-5-sonnet-20241022-v2:0",
         "r": [
          73.75,
          75.98,
          79.89,
          82.12,
          82.14,
          null,
          null,
          null,
          null,
          null,
          null,
          null,
          78.776,
          73.75
         ],
         "showlegend": true,
         "subplot": "polar",
         "theta": [
          "enam/enam_2024",
          "enem/2022",
          "enem/2023",
          "enem/2024",
          "mmmlu/mmmlu",
          "oab/2016-19",
          "oab/2016-20",
          "oab/2016-20a",
          "oab/2016-21",
          "oab/2017-22",
          "oab/2017-23",
          "oab/2017-24",
          "AVG",
          "enam/enam_2024"
         ],
         "type": "scatterpolar"
        },
        {
         "hovertemplate": "model=nova-lite-v1:0<br>score=%{r}<br>task=%{theta}<extra></extra>",
         "legendgroup": "nova-lite-v1:0",
         "line": {
          "color": "#ab63fa",
          "dash": "solid"
         },
         "marker": {
          "symbol": "circle"
         },
         "mode": "lines+markers",
         "name": "nova-lite-v1:0",
         "r": [
          30,
          67.04,
          74.3,
          71.51,
          62.86,
          53.85,
          63.75,
          52.5,
          52.5,
          62.5,
          43.75,
          62.5,
          58.08833333333334,
          30
         ],
         "showlegend": true,
         "subplot": "polar",
         "theta": [
          "enam/enam_2024",
          "enem/2022",
          "enem/2023",
          "enem/2024",
          "mmmlu/mmmlu",
          "oab/2016-19",
          "oab/2016-20",
          "oab/2016-20a",
          "oab/2016-21",
          "oab/2017-22",
          "oab/2017-23",
          "oab/2017-24",
          "AVG",
          "enam/enam_2024"
         ],
         "type": "scatterpolar"
        },
        {
         "hovertemplate": "model=nova-lite-v1:0 - CoT<br>score=%{r}<br>task=%{theta}<extra></extra>",
         "legendgroup": "nova-lite-v1:0 - CoT",
         "line": {
          "color": "#FFA15A",
          "dash": "solid"
         },
         "marker": {
          "symbol": "circle"
         },
         "mode": "lines+markers",
         "name": "nova-lite-v1:0 - CoT",
         "r": [
          30,
          76.54,
          80.45,
          78.77,
          76.43,
          58.97,
          62.5,
          50,
          51.25,
          58.75,
          46.25,
          57.5,
          60.6175,
          30
         ],
         "showlegend": true,
         "subplot": "polar",
         "theta": [
          "enam/enam_2024",
          "enem/2022",
          "enem/2023",
          "enem/2024",
          "mmmlu/mmmlu",
          "oab/2016-19",
          "oab/2016-20",
          "oab/2016-20a",
          "oab/2016-21",
          "oab/2017-22",
          "oab/2017-23",
          "oab/2017-24",
          "AVG",
          "enam/enam_2024"
         ],
         "type": "scatterpolar"
        },
        {
         "hovertemplate": "model=nova-micro-v1:0<br>score=%{r}<br>task=%{theta}<extra></extra>",
         "legendgroup": "nova-micro-v1:0",
         "line": {
          "color": "#19d3f3",
          "dash": "solid"
         },
         "marker": {
          "symbol": "circle"
         },
         "mode": "lines+markers",
         "name": "nova-micro-v1:0",
         "r": [
          33.75,
          64.8,
          69.27,
          64.25,
          58.57,
          50,
          47.5,
          40,
          41.25,
          57.5,
          51.25,
          52.5,
          52.553333333333335,
          33.75
         ],
         "showlegend": true,
         "subplot": "polar",
         "theta": [
          "enam/enam_2024",
          "enem/2022",
          "enem/2023",
          "enem/2024",
          "mmmlu/mmmlu",
          "oab/2016-19",
          "oab/2016-20",
          "oab/2016-20a",
          "oab/2016-21",
          "oab/2017-22",
          "oab/2017-23",
          "oab/2017-24",
          "AVG",
          "enam/enam_2024"
         ],
         "type": "scatterpolar"
        },
        {
         "hovertemplate": "model=nova-micro-v1:0 - CoT<br>score=%{r}<br>task=%{theta}<extra></extra>",
         "legendgroup": "nova-micro-v1:0 - CoT",
         "line": {
          "color": "#FF6692",
          "dash": "solid"
         },
         "marker": {
          "symbol": "circle"
         },
         "mode": "lines+markers",
         "name": "nova-micro-v1:0 - CoT",
         "r": [
          43.75,
          76.54,
          76.54,
          78.77,
          67.14,
          51.28,
          47.5,
          41.25,
          37.5,
          null,
          null,
          null,
          57.80777777777777,
          43.75
         ],
         "showlegend": true,
         "subplot": "polar",
         "theta": [
          "enam/enam_2024",
          "enem/2022",
          "enem/2023",
          "enem/2024",
          "mmmlu/mmmlu",
          "oab/2016-19",
          "oab/2016-20",
          "oab/2016-20a",
          "oab/2016-21",
          "oab/2017-22",
          "oab/2017-23",
          "oab/2017-24",
          "AVG",
          "enam/enam_2024"
         ],
         "type": "scatterpolar"
        },
        {
         "hovertemplate": "model=nova-pro-v1:0<br>score=%{r}<br>task=%{theta}<extra></extra>",
         "legendgroup": "nova-pro-v1:0",
         "line": {
          "color": "#B6E880",
          "dash": "solid"
         },
         "marker": {
          "symbol": "circle"
         },
         "mode": "lines+markers",
         "name": "nova-pro-v1:0",
         "r": [
          46.25,
          72.63,
          76.54,
          77.09,
          72.86,
          62.82,
          61.25,
          56.25,
          53.75,
          68.75,
          55,
          52.5,
          62.97416666666667,
          46.25
         ],
         "showlegend": true,
         "subplot": "polar",
         "theta": [
          "enam/enam_2024",
          "enem/2022",
          "enem/2023",
          "enem/2024",
          "mmmlu/mmmlu",
          "oab/2016-19",
          "oab/2016-20",
          "oab/2016-20a",
          "oab/2016-21",
          "oab/2017-22",
          "oab/2017-23",
          "oab/2017-24",
          "AVG",
          "enam/enam_2024"
         ],
         "type": "scatterpolar"
        },
        {
         "hovertemplate": "model=nova-pro-v1:0 - CoT<br>score=%{r}<br>task=%{theta}<extra></extra>",
         "legendgroup": "nova-pro-v1:0 - CoT",
         "line": {
          "color": "#FF97FF",
          "dash": "solid"
         },
         "marker": {
          "symbol": "circle"
         },
         "mode": "lines+markers",
         "name": "nova-pro-v1:0 - CoT",
         "r": [
          46.25,
          82.68,
          84.92,
          89.39,
          79.29,
          null,
          null,
          null,
          null,
          null,
          null,
          null,
          76.506,
          46.25
         ],
         "showlegend": true,
         "subplot": "polar",
         "theta": [
          "enam/enam_2024",
          "enem/2022",
          "enem/2023",
          "enem/2024",
          "mmmlu/mmmlu",
          "oab/2016-19",
          "oab/2016-20",
          "oab/2016-20a",
          "oab/2016-21",
          "oab/2017-22",
          "oab/2017-23",
          "oab/2017-24",
          "AVG",
          "enam/enam_2024"
         ],
         "type": "scatterpolar"
        }
       ],
       "layout": {
        "height": 1400,
        "legend": {
         "title": {
          "text": "model"
         },
         "tracegroupgap": 0
        },
        "margin": {
         "t": 60
        },
        "polar": {
         "angularaxis": {
          "direction": "clockwise",
          "rotation": 90
         },
         "domain": {
          "x": [
           0,
           1
          ],
          "y": [
           0,
           1
          ]
         },
         "radialaxis": {
          "range": [
           25,
           94.39
          ]
         }
        },
        "template": {
         "data": {
          "bar": [
           {
            "error_x": {
             "color": "#2a3f5f"
            },
            "error_y": {
             "color": "#2a3f5f"
            },
            "marker": {
             "line": {
              "color": "#E5ECF6",
              "width": 0.5
             },
             "pattern": {
              "fillmode": "overlay",
              "size": 10,
              "solidity": 0.2
             }
            },
            "type": "bar"
           }
          ],
          "barpolar": [
           {
            "marker": {
             "line": {
              "color": "#E5ECF6",
              "width": 0.5
             },
             "pattern": {
              "fillmode": "overlay",
              "size": 10,
              "solidity": 0.2
             }
            },
            "type": "barpolar"
           }
          ],
          "carpet": [
           {
            "aaxis": {
             "endlinecolor": "#2a3f5f",
             "gridcolor": "white",
             "linecolor": "white",
             "minorgridcolor": "white",
             "startlinecolor": "#2a3f5f"
            },
            "baxis": {
             "endlinecolor": "#2a3f5f",
             "gridcolor": "white",
             "linecolor": "white",
             "minorgridcolor": "white",
             "startlinecolor": "#2a3f5f"
            },
            "type": "carpet"
           }
          ],
          "choropleth": [
           {
            "colorbar": {
             "outlinewidth": 0,
             "ticks": ""
            },
            "type": "choropleth"
           }
          ],
          "contour": [
           {
            "colorbar": {
             "outlinewidth": 0,
             "ticks": ""
            },
            "colorscale": [
             [
              0,
              "#0d0887"
             ],
             [
              0.1111111111111111,
              "#46039f"
             ],
             [
              0.2222222222222222,
              "#7201a8"
             ],
             [
              0.3333333333333333,
              "#9c179e"
             ],
             [
              0.4444444444444444,
              "#bd3786"
             ],
             [
              0.5555555555555556,
              "#d8576b"
             ],
             [
              0.6666666666666666,
              "#ed7953"
             ],
             [
              0.7777777777777778,
              "#fb9f3a"
             ],
             [
              0.8888888888888888,
              "#fdca26"
             ],
             [
              1,
              "#f0f921"
             ]
            ],
            "type": "contour"
           }
          ],
          "contourcarpet": [
           {
            "colorbar": {
             "outlinewidth": 0,
             "ticks": ""
            },
            "type": "contourcarpet"
           }
          ],
          "heatmap": [
           {
            "colorbar": {
             "outlinewidth": 0,
             "ticks": ""
            },
            "colorscale": [
             [
              0,
              "#0d0887"
             ],
             [
              0.1111111111111111,
              "#46039f"
             ],
             [
              0.2222222222222222,
              "#7201a8"
             ],
             [
              0.3333333333333333,
              "#9c179e"
             ],
             [
              0.4444444444444444,
              "#bd3786"
             ],
             [
              0.5555555555555556,
              "#d8576b"
             ],
             [
              0.6666666666666666,
              "#ed7953"
             ],
             [
              0.7777777777777778,
              "#fb9f3a"
             ],
             [
              0.8888888888888888,
              "#fdca26"
             ],
             [
              1,
              "#f0f921"
             ]
            ],
            "type": "heatmap"
           }
          ],
          "heatmapgl": [
           {
            "colorbar": {
             "outlinewidth": 0,
             "ticks": ""
            },
            "colorscale": [
             [
              0,
              "#0d0887"
             ],
             [
              0.1111111111111111,
              "#46039f"
             ],
             [
              0.2222222222222222,
              "#7201a8"
             ],
             [
              0.3333333333333333,
              "#9c179e"
             ],
             [
              0.4444444444444444,
              "#bd3786"
             ],
             [
              0.5555555555555556,
              "#d8576b"
             ],
             [
              0.6666666666666666,
              "#ed7953"
             ],
             [
              0.7777777777777778,
              "#fb9f3a"
             ],
             [
              0.8888888888888888,
              "#fdca26"
             ],
             [
              1,
              "#f0f921"
             ]
            ],
            "type": "heatmapgl"
           }
          ],
          "histogram": [
           {
            "marker": {
             "pattern": {
              "fillmode": "overlay",
              "size": 10,
              "solidity": 0.2
             }
            },
            "type": "histogram"
           }
          ],
          "histogram2d": [
           {
            "colorbar": {
             "outlinewidth": 0,
             "ticks": ""
            },
            "colorscale": [
             [
              0,
              "#0d0887"
             ],
             [
              0.1111111111111111,
              "#46039f"
             ],
             [
              0.2222222222222222,
              "#7201a8"
             ],
             [
              0.3333333333333333,
              "#9c179e"
             ],
             [
              0.4444444444444444,
              "#bd3786"
             ],
             [
              0.5555555555555556,
              "#d8576b"
             ],
             [
              0.6666666666666666,
              "#ed7953"
             ],
             [
              0.7777777777777778,
              "#fb9f3a"
             ],
             [
              0.8888888888888888,
              "#fdca26"
             ],
             [
              1,
              "#f0f921"
             ]
            ],
            "type": "histogram2d"
           }
          ],
          "histogram2dcontour": [
           {
            "colorbar": {
             "outlinewidth": 0,
             "ticks": ""
            },
            "colorscale": [
             [
              0,
              "#0d0887"
             ],
             [
              0.1111111111111111,
              "#46039f"
             ],
             [
              0.2222222222222222,
              "#7201a8"
             ],
             [
              0.3333333333333333,
              "#9c179e"
             ],
             [
              0.4444444444444444,
              "#bd3786"
             ],
             [
              0.5555555555555556,
              "#d8576b"
             ],
             [
              0.6666666666666666,
              "#ed7953"
             ],
             [
              0.7777777777777778,
              "#fb9f3a"
             ],
             [
              0.8888888888888888,
              "#fdca26"
             ],
             [
              1,
              "#f0f921"
             ]
            ],
            "type": "histogram2dcontour"
           }
          ],
          "mesh3d": [
           {
            "colorbar": {
             "outlinewidth": 0,
             "ticks": ""
            },
            "type": "mesh3d"
           }
          ],
          "parcoords": [
           {
            "line": {
             "colorbar": {
              "outlinewidth": 0,
              "ticks": ""
             }
            },
            "type": "parcoords"
           }
          ],
          "pie": [
           {
            "automargin": true,
            "type": "pie"
           }
          ],
          "scatter": [
           {
            "fillpattern": {
             "fillmode": "overlay",
             "size": 10,
             "solidity": 0.2
            },
            "type": "scatter"
           }
          ],
          "scatter3d": [
           {
            "line": {
             "colorbar": {
              "outlinewidth": 0,
              "ticks": ""
             }
            },
            "marker": {
             "colorbar": {
              "outlinewidth": 0,
              "ticks": ""
             }
            },
            "type": "scatter3d"
           }
          ],
          "scattercarpet": [
           {
            "marker": {
             "colorbar": {
              "outlinewidth": 0,
              "ticks": ""
             }
            },
            "type": "scattercarpet"
           }
          ],
          "scattergeo": [
           {
            "marker": {
             "colorbar": {
              "outlinewidth": 0,
              "ticks": ""
             }
            },
            "type": "scattergeo"
           }
          ],
          "scattergl": [
           {
            "marker": {
             "colorbar": {
              "outlinewidth": 0,
              "ticks": ""
             }
            },
            "type": "scattergl"
           }
          ],
          "scattermapbox": [
           {
            "marker": {
             "colorbar": {
              "outlinewidth": 0,
              "ticks": ""
             }
            },
            "type": "scattermapbox"
           }
          ],
          "scatterpolar": [
           {
            "marker": {
             "colorbar": {
              "outlinewidth": 0,
              "ticks": ""
             }
            },
            "type": "scatterpolar"
           }
          ],
          "scatterpolargl": [
           {
            "marker": {
             "colorbar": {
              "outlinewidth": 0,
              "ticks": ""
             }
            },
            "type": "scatterpolargl"
           }
          ],
          "scatterternary": [
           {
            "marker": {
             "colorbar": {
              "outlinewidth": 0,
              "ticks": ""
             }
            },
            "type": "scatterternary"
           }
          ],
          "surface": [
           {
            "colorbar": {
             "outlinewidth": 0,
             "ticks": ""
            },
            "colorscale": [
             [
              0,
              "#0d0887"
             ],
             [
              0.1111111111111111,
              "#46039f"
             ],
             [
              0.2222222222222222,
              "#7201a8"
             ],
             [
              0.3333333333333333,
              "#9c179e"
             ],
             [
              0.4444444444444444,
              "#bd3786"
             ],
             [
              0.5555555555555556,
              "#d8576b"
             ],
             [
              0.6666666666666666,
              "#ed7953"
             ],
             [
              0.7777777777777778,
              "#fb9f3a"
             ],
             [
              0.8888888888888888,
              "#fdca26"
             ],
             [
              1,
              "#f0f921"
             ]
            ],
            "type": "surface"
           }
          ],
          "table": [
           {
            "cells": {
             "fill": {
              "color": "#EBF0F8"
             },
             "line": {
              "color": "white"
             }
            },
            "header": {
             "fill": {
              "color": "#C8D4E3"
             },
             "line": {
              "color": "white"
             }
            },
            "type": "table"
           }
          ]
         },
         "layout": {
          "annotationdefaults": {
           "arrowcolor": "#2a3f5f",
           "arrowhead": 0,
           "arrowwidth": 1
          },
          "autotypenumbers": "strict",
          "coloraxis": {
           "colorbar": {
            "outlinewidth": 0,
            "ticks": ""
           }
          },
          "colorscale": {
           "diverging": [
            [
             0,
             "#8e0152"
            ],
            [
             0.1,
             "#c51b7d"
            ],
            [
             0.2,
             "#de77ae"
            ],
            [
             0.3,
             "#f1b6da"
            ],
            [
             0.4,
             "#fde0ef"
            ],
            [
             0.5,
             "#f7f7f7"
            ],
            [
             0.6,
             "#e6f5d0"
            ],
            [
             0.7,
             "#b8e186"
            ],
            [
             0.8,
             "#7fbc41"
            ],
            [
             0.9,
             "#4d9221"
            ],
            [
             1,
             "#276419"
            ]
           ],
           "sequential": [
            [
             0,
             "#0d0887"
            ],
            [
             0.1111111111111111,
             "#46039f"
            ],
            [
             0.2222222222222222,
             "#7201a8"
            ],
            [
             0.3333333333333333,
             "#9c179e"
            ],
            [
             0.4444444444444444,
             "#bd3786"
            ],
            [
             0.5555555555555556,
             "#d8576b"
            ],
            [
             0.6666666666666666,
             "#ed7953"
            ],
            [
             0.7777777777777778,
             "#fb9f3a"
            ],
            [
             0.8888888888888888,
             "#fdca26"
            ],
            [
             1,
             "#f0f921"
            ]
           ],
           "sequentialminus": [
            [
             0,
             "#0d0887"
            ],
            [
             0.1111111111111111,
             "#46039f"
            ],
            [
             0.2222222222222222,
             "#7201a8"
            ],
            [
             0.3333333333333333,
             "#9c179e"
            ],
            [
             0.4444444444444444,
             "#bd3786"
            ],
            [
             0.5555555555555556,
             "#d8576b"
            ],
            [
             0.6666666666666666,
             "#ed7953"
            ],
            [
             0.7777777777777778,
             "#fb9f3a"
            ],
            [
             0.8888888888888888,
             "#fdca26"
            ],
            [
             1,
             "#f0f921"
            ]
           ]
          },
          "colorway": [
           "#636efa",
           "#EF553B",
           "#00cc96",
           "#ab63fa",
           "#FFA15A",
           "#19d3f3",
           "#FF6692",
           "#B6E880",
           "#FF97FF",
           "#FECB52"
          ],
          "font": {
           "color": "#2a3f5f"
          },
          "geo": {
           "bgcolor": "white",
           "lakecolor": "white",
           "landcolor": "#E5ECF6",
           "showlakes": true,
           "showland": true,
           "subunitcolor": "white"
          },
          "hoverlabel": {
           "align": "left"
          },
          "hovermode": "closest",
          "mapbox": {
           "style": "light"
          },
          "paper_bgcolor": "white",
          "plot_bgcolor": "#E5ECF6",
          "polar": {
           "angularaxis": {
            "gridcolor": "white",
            "linecolor": "white",
            "ticks": ""
           },
           "bgcolor": "#E5ECF6",
           "radialaxis": {
            "gridcolor": "white",
            "linecolor": "white",
            "ticks": ""
           }
          },
          "scene": {
           "xaxis": {
            "backgroundcolor": "#E5ECF6",
            "gridcolor": "white",
            "gridwidth": 2,
            "linecolor": "white",
            "showbackground": true,
            "ticks": "",
            "zerolinecolor": "white"
           },
           "yaxis": {
            "backgroundcolor": "#E5ECF6",
            "gridcolor": "white",
            "gridwidth": 2,
            "linecolor": "white",
            "showbackground": true,
            "ticks": "",
            "zerolinecolor": "white"
           },
           "zaxis": {
            "backgroundcolor": "#E5ECF6",
            "gridcolor": "white",
            "gridwidth": 2,
            "linecolor": "white",
            "showbackground": true,
            "ticks": "",
            "zerolinecolor": "white"
           }
          },
          "shapedefaults": {
           "line": {
            "color": "#2a3f5f"
           }
          },
          "ternary": {
           "aaxis": {
            "gridcolor": "white",
            "linecolor": "white",
            "ticks": ""
           },
           "baxis": {
            "gridcolor": "white",
            "linecolor": "white",
            "ticks": ""
           },
           "bgcolor": "#E5ECF6",
           "caxis": {
            "gridcolor": "white",
            "linecolor": "white",
            "ticks": ""
           }
          },
          "title": {
           "x": 0.05
          },
          "xaxis": {
           "automargin": true,
           "gridcolor": "white",
           "linecolor": "white",
           "ticks": "",
           "title": {
            "standoff": 15
           },
           "zerolinecolor": "white",
           "zerolinewidth": 2
          },
          "yaxis": {
           "automargin": true,
           "gridcolor": "white",
           "linecolor": "white",
           "ticks": "",
           "title": {
            "standoff": 15
           },
           "zerolinecolor": "white",
           "zerolinewidth": 2
          }
         }
        }
       }
      }
     },
     "metadata": {},
     "output_type": "display_data"
    }
   ],
   "source": [
    "import plotly.express as px\n",
    "\n",
    "plotter = []\n",
    "temp = out.reset_index()\n",
    "tasks = list(temp[\"task\"].unique())\n",
    "models = list(temp.columns)[1:]\n",
    "\n",
    "min_r = 100\n",
    "max_r = 0\n",
    "\n",
    "for t in tasks:\n",
    "    for m in models:\n",
    "        tx = temp[temp[\"task\"] == t][m].reset_index(drop=True)[0]\n",
    "        \n",
    "        if tx < min_r:\n",
    "            min_r = tx\n",
    "        if tx > max_r:\n",
    "            max_r = tx\n",
    "        \n",
    "        plotter.append({\"task\": t, \"model\": m, \"score\": tx})\n",
    "\n",
    "plotter = pd.DataFrame(plotter)\n",
    "fig = px.line_polar(plotter, r=\"score\", theta=\"task\", color=\"model\", height=1400, line_close=True, markers=True, range_r=[min_r-5,max_r+5])\n",
    "fig.write_image(\"2_charts/radar.png\", height = 1400, width = 1400)\n",
    "# fig.write_image(\"2_charts/radar.png\")\n",
    "fig.show()\n"
   ]
  },
  {
   "cell_type": "code",
   "execution_count": 131,
   "metadata": {},
   "outputs": [
    {
     "data": {
      "application/vnd.plotly.v1+json": {
       "config": {
        "plotlyServerURL": "https://plot.ly"
       },
       "data": [
        {
         "hovertemplate": "model=claude-3-5-haiku-20241022-v1:0<br>score=%{r}<br>task=%{theta}<extra></extra>",
         "legendgroup": "claude-3-5-haiku-20241022-v1:0",
         "line": {
          "color": "#636efa",
          "dash": "solid"
         },
         "marker": {
          "symbol": "circle"
         },
         "mode": "lines+markers",
         "name": "claude-3-5-haiku-20241022-v1:0",
         "r": [
          63.13,
          60.34,
          63.13,
          63.13
         ],
         "showlegend": true,
         "subplot": "polar",
         "theta": [
          "enem/2022",
          "enem/2023",
          "enem/2024",
          "enem/2022"
         ],
         "type": "scatterpolar"
        },
        {
         "hovertemplate": "model=claude-3-5-haiku-20241022-v1:0 - CoT<br>score=%{r}<br>task=%{theta}<extra></extra>",
         "legendgroup": "claude-3-5-haiku-20241022-v1:0 - CoT",
         "line": {
          "color": "#EF553B",
          "dash": "solid"
         },
         "marker": {
          "symbol": "circle"
         },
         "mode": "lines+markers",
         "name": "claude-3-5-haiku-20241022-v1:0 - CoT",
         "r": [
          81.01,
          86.59,
          81.56,
          81.01
         ],
         "showlegend": true,
         "subplot": "polar",
         "theta": [
          "enem/2022",
          "enem/2023",
          "enem/2024",
          "enem/2022"
         ],
         "type": "scatterpolar"
        },
        {
         "hovertemplate": "model=claude-3-5-sonnet-20241022-v2:0<br>score=%{r}<br>task=%{theta}<extra></extra>",
         "legendgroup": "claude-3-5-sonnet-20241022-v2:0",
         "line": {
          "color": "#00cc96",
          "dash": "solid"
         },
         "marker": {
          "symbol": "circle"
         },
         "mode": "lines+markers",
         "name": "claude-3-5-sonnet-20241022-v2:0",
         "r": [
          75.98,
          79.89,
          82.12,
          75.98
         ],
         "showlegend": true,
         "subplot": "polar",
         "theta": [
          "enem/2022",
          "enem/2023",
          "enem/2024",
          "enem/2022"
         ],
         "type": "scatterpolar"
        },
        {
         "hovertemplate": "model=nova-lite-v1:0<br>score=%{r}<br>task=%{theta}<extra></extra>",
         "legendgroup": "nova-lite-v1:0",
         "line": {
          "color": "#ab63fa",
          "dash": "solid"
         },
         "marker": {
          "symbol": "circle"
         },
         "mode": "lines+markers",
         "name": "nova-lite-v1:0",
         "r": [
          67.04,
          74.3,
          71.51,
          67.04
         ],
         "showlegend": true,
         "subplot": "polar",
         "theta": [
          "enem/2022",
          "enem/2023",
          "enem/2024",
          "enem/2022"
         ],
         "type": "scatterpolar"
        },
        {
         "hovertemplate": "model=nova-lite-v1:0 - CoT<br>score=%{r}<br>task=%{theta}<extra></extra>",
         "legendgroup": "nova-lite-v1:0 - CoT",
         "line": {
          "color": "#FFA15A",
          "dash": "solid"
         },
         "marker": {
          "symbol": "circle"
         },
         "mode": "lines+markers",
         "name": "nova-lite-v1:0 - CoT",
         "r": [
          76.54,
          80.45,
          78.77,
          76.54
         ],
         "showlegend": true,
         "subplot": "polar",
         "theta": [
          "enem/2022",
          "enem/2023",
          "enem/2024",
          "enem/2022"
         ],
         "type": "scatterpolar"
        },
        {
         "hovertemplate": "model=nova-micro-v1:0<br>score=%{r}<br>task=%{theta}<extra></extra>",
         "legendgroup": "nova-micro-v1:0",
         "line": {
          "color": "#19d3f3",
          "dash": "solid"
         },
         "marker": {
          "symbol": "circle"
         },
         "mode": "lines+markers",
         "name": "nova-micro-v1:0",
         "r": [
          64.8,
          69.27,
          64.25,
          64.8
         ],
         "showlegend": true,
         "subplot": "polar",
         "theta": [
          "enem/2022",
          "enem/2023",
          "enem/2024",
          "enem/2022"
         ],
         "type": "scatterpolar"
        },
        {
         "hovertemplate": "model=nova-micro-v1:0 - CoT<br>score=%{r}<br>task=%{theta}<extra></extra>",
         "legendgroup": "nova-micro-v1:0 - CoT",
         "line": {
          "color": "#FF6692",
          "dash": "solid"
         },
         "marker": {
          "symbol": "circle"
         },
         "mode": "lines+markers",
         "name": "nova-micro-v1:0 - CoT",
         "r": [
          76.54,
          76.54,
          78.77,
          76.54
         ],
         "showlegend": true,
         "subplot": "polar",
         "theta": [
          "enem/2022",
          "enem/2023",
          "enem/2024",
          "enem/2022"
         ],
         "type": "scatterpolar"
        },
        {
         "hovertemplate": "model=nova-pro-v1:0<br>score=%{r}<br>task=%{theta}<extra></extra>",
         "legendgroup": "nova-pro-v1:0",
         "line": {
          "color": "#B6E880",
          "dash": "solid"
         },
         "marker": {
          "symbol": "circle"
         },
         "mode": "lines+markers",
         "name": "nova-pro-v1:0",
         "r": [
          72.63,
          76.54,
          77.09,
          72.63
         ],
         "showlegend": true,
         "subplot": "polar",
         "theta": [
          "enem/2022",
          "enem/2023",
          "enem/2024",
          "enem/2022"
         ],
         "type": "scatterpolar"
        },
        {
         "hovertemplate": "model=nova-pro-v1:0 - CoT<br>score=%{r}<br>task=%{theta}<extra></extra>",
         "legendgroup": "nova-pro-v1:0 - CoT",
         "line": {
          "color": "#FF97FF",
          "dash": "solid"
         },
         "marker": {
          "symbol": "circle"
         },
         "mode": "lines+markers",
         "name": "nova-pro-v1:0 - CoT",
         "r": [
          82.68,
          84.92,
          89.39,
          82.68
         ],
         "showlegend": true,
         "subplot": "polar",
         "theta": [
          "enem/2022",
          "enem/2023",
          "enem/2024",
          "enem/2022"
         ],
         "type": "scatterpolar"
        }
       ],
       "layout": {
        "height": 1400,
        "legend": {
         "title": {
          "text": "model"
         },
         "tracegroupgap": 0
        },
        "margin": {
         "t": 60
        },
        "polar": {
         "angularaxis": {
          "direction": "clockwise",
          "rotation": 90
         },
         "domain": {
          "x": [
           0,
           1
          ],
          "y": [
           0,
           1
          ]
         },
         "radialaxis": {
          "range": [
           55.34,
           94.39
          ]
         }
        },
        "template": {
         "data": {
          "bar": [
           {
            "error_x": {
             "color": "#2a3f5f"
            },
            "error_y": {
             "color": "#2a3f5f"
            },
            "marker": {
             "line": {
              "color": "#E5ECF6",
              "width": 0.5
             },
             "pattern": {
              "fillmode": "overlay",
              "size": 10,
              "solidity": 0.2
             }
            },
            "type": "bar"
           }
          ],
          "barpolar": [
           {
            "marker": {
             "line": {
              "color": "#E5ECF6",
              "width": 0.5
             },
             "pattern": {
              "fillmode": "overlay",
              "size": 10,
              "solidity": 0.2
             }
            },
            "type": "barpolar"
           }
          ],
          "carpet": [
           {
            "aaxis": {
             "endlinecolor": "#2a3f5f",
             "gridcolor": "white",
             "linecolor": "white",
             "minorgridcolor": "white",
             "startlinecolor": "#2a3f5f"
            },
            "baxis": {
             "endlinecolor": "#2a3f5f",
             "gridcolor": "white",
             "linecolor": "white",
             "minorgridcolor": "white",
             "startlinecolor": "#2a3f5f"
            },
            "type": "carpet"
           }
          ],
          "choropleth": [
           {
            "colorbar": {
             "outlinewidth": 0,
             "ticks": ""
            },
            "type": "choropleth"
           }
          ],
          "contour": [
           {
            "colorbar": {
             "outlinewidth": 0,
             "ticks": ""
            },
            "colorscale": [
             [
              0,
              "#0d0887"
             ],
             [
              0.1111111111111111,
              "#46039f"
             ],
             [
              0.2222222222222222,
              "#7201a8"
             ],
             [
              0.3333333333333333,
              "#9c179e"
             ],
             [
              0.4444444444444444,
              "#bd3786"
             ],
             [
              0.5555555555555556,
              "#d8576b"
             ],
             [
              0.6666666666666666,
              "#ed7953"
             ],
             [
              0.7777777777777778,
              "#fb9f3a"
             ],
             [
              0.8888888888888888,
              "#fdca26"
             ],
             [
              1,
              "#f0f921"
             ]
            ],
            "type": "contour"
           }
          ],
          "contourcarpet": [
           {
            "colorbar": {
             "outlinewidth": 0,
             "ticks": ""
            },
            "type": "contourcarpet"
           }
          ],
          "heatmap": [
           {
            "colorbar": {
             "outlinewidth": 0,
             "ticks": ""
            },
            "colorscale": [
             [
              0,
              "#0d0887"
             ],
             [
              0.1111111111111111,
              "#46039f"
             ],
             [
              0.2222222222222222,
              "#7201a8"
             ],
             [
              0.3333333333333333,
              "#9c179e"
             ],
             [
              0.4444444444444444,
              "#bd3786"
             ],
             [
              0.5555555555555556,
              "#d8576b"
             ],
             [
              0.6666666666666666,
              "#ed7953"
             ],
             [
              0.7777777777777778,
              "#fb9f3a"
             ],
             [
              0.8888888888888888,
              "#fdca26"
             ],
             [
              1,
              "#f0f921"
             ]
            ],
            "type": "heatmap"
           }
          ],
          "heatmapgl": [
           {
            "colorbar": {
             "outlinewidth": 0,
             "ticks": ""
            },
            "colorscale": [
             [
              0,
              "#0d0887"
             ],
             [
              0.1111111111111111,
              "#46039f"
             ],
             [
              0.2222222222222222,
              "#7201a8"
             ],
             [
              0.3333333333333333,
              "#9c179e"
             ],
             [
              0.4444444444444444,
              "#bd3786"
             ],
             [
              0.5555555555555556,
              "#d8576b"
             ],
             [
              0.6666666666666666,
              "#ed7953"
             ],
             [
              0.7777777777777778,
              "#fb9f3a"
             ],
             [
              0.8888888888888888,
              "#fdca26"
             ],
             [
              1,
              "#f0f921"
             ]
            ],
            "type": "heatmapgl"
           }
          ],
          "histogram": [
           {
            "marker": {
             "pattern": {
              "fillmode": "overlay",
              "size": 10,
              "solidity": 0.2
             }
            },
            "type": "histogram"
           }
          ],
          "histogram2d": [
           {
            "colorbar": {
             "outlinewidth": 0,
             "ticks": ""
            },
            "colorscale": [
             [
              0,
              "#0d0887"
             ],
             [
              0.1111111111111111,
              "#46039f"
             ],
             [
              0.2222222222222222,
              "#7201a8"
             ],
             [
              0.3333333333333333,
              "#9c179e"
             ],
             [
              0.4444444444444444,
              "#bd3786"
             ],
             [
              0.5555555555555556,
              "#d8576b"
             ],
             [
              0.6666666666666666,
              "#ed7953"
             ],
             [
              0.7777777777777778,
              "#fb9f3a"
             ],
             [
              0.8888888888888888,
              "#fdca26"
             ],
             [
              1,
              "#f0f921"
             ]
            ],
            "type": "histogram2d"
           }
          ],
          "histogram2dcontour": [
           {
            "colorbar": {
             "outlinewidth": 0,
             "ticks": ""
            },
            "colorscale": [
             [
              0,
              "#0d0887"
             ],
             [
              0.1111111111111111,
              "#46039f"
             ],
             [
              0.2222222222222222,
              "#7201a8"
             ],
             [
              0.3333333333333333,
              "#9c179e"
             ],
             [
              0.4444444444444444,
              "#bd3786"
             ],
             [
              0.5555555555555556,
              "#d8576b"
             ],
             [
              0.6666666666666666,
              "#ed7953"
             ],
             [
              0.7777777777777778,
              "#fb9f3a"
             ],
             [
              0.8888888888888888,
              "#fdca26"
             ],
             [
              1,
              "#f0f921"
             ]
            ],
            "type": "histogram2dcontour"
           }
          ],
          "mesh3d": [
           {
            "colorbar": {
             "outlinewidth": 0,
             "ticks": ""
            },
            "type": "mesh3d"
           }
          ],
          "parcoords": [
           {
            "line": {
             "colorbar": {
              "outlinewidth": 0,
              "ticks": ""
             }
            },
            "type": "parcoords"
           }
          ],
          "pie": [
           {
            "automargin": true,
            "type": "pie"
           }
          ],
          "scatter": [
           {
            "fillpattern": {
             "fillmode": "overlay",
             "size": 10,
             "solidity": 0.2
            },
            "type": "scatter"
           }
          ],
          "scatter3d": [
           {
            "line": {
             "colorbar": {
              "outlinewidth": 0,
              "ticks": ""
             }
            },
            "marker": {
             "colorbar": {
              "outlinewidth": 0,
              "ticks": ""
             }
            },
            "type": "scatter3d"
           }
          ],
          "scattercarpet": [
           {
            "marker": {
             "colorbar": {
              "outlinewidth": 0,
              "ticks": ""
             }
            },
            "type": "scattercarpet"
           }
          ],
          "scattergeo": [
           {
            "marker": {
             "colorbar": {
              "outlinewidth": 0,
              "ticks": ""
             }
            },
            "type": "scattergeo"
           }
          ],
          "scattergl": [
           {
            "marker": {
             "colorbar": {
              "outlinewidth": 0,
              "ticks": ""
             }
            },
            "type": "scattergl"
           }
          ],
          "scattermapbox": [
           {
            "marker": {
             "colorbar": {
              "outlinewidth": 0,
              "ticks": ""
             }
            },
            "type": "scattermapbox"
           }
          ],
          "scatterpolar": [
           {
            "marker": {
             "colorbar": {
              "outlinewidth": 0,
              "ticks": ""
             }
            },
            "type": "scatterpolar"
           }
          ],
          "scatterpolargl": [
           {
            "marker": {
             "colorbar": {
              "outlinewidth": 0,
              "ticks": ""
             }
            },
            "type": "scatterpolargl"
           }
          ],
          "scatterternary": [
           {
            "marker": {
             "colorbar": {
              "outlinewidth": 0,
              "ticks": ""
             }
            },
            "type": "scatterternary"
           }
          ],
          "surface": [
           {
            "colorbar": {
             "outlinewidth": 0,
             "ticks": ""
            },
            "colorscale": [
             [
              0,
              "#0d0887"
             ],
             [
              0.1111111111111111,
              "#46039f"
             ],
             [
              0.2222222222222222,
              "#7201a8"
             ],
             [
              0.3333333333333333,
              "#9c179e"
             ],
             [
              0.4444444444444444,
              "#bd3786"
             ],
             [
              0.5555555555555556,
              "#d8576b"
             ],
             [
              0.6666666666666666,
              "#ed7953"
             ],
             [
              0.7777777777777778,
              "#fb9f3a"
             ],
             [
              0.8888888888888888,
              "#fdca26"
             ],
             [
              1,
              "#f0f921"
             ]
            ],
            "type": "surface"
           }
          ],
          "table": [
           {
            "cells": {
             "fill": {
              "color": "#EBF0F8"
             },
             "line": {
              "color": "white"
             }
            },
            "header": {
             "fill": {
              "color": "#C8D4E3"
             },
             "line": {
              "color": "white"
             }
            },
            "type": "table"
           }
          ]
         },
         "layout": {
          "annotationdefaults": {
           "arrowcolor": "#2a3f5f",
           "arrowhead": 0,
           "arrowwidth": 1
          },
          "autotypenumbers": "strict",
          "coloraxis": {
           "colorbar": {
            "outlinewidth": 0,
            "ticks": ""
           }
          },
          "colorscale": {
           "diverging": [
            [
             0,
             "#8e0152"
            ],
            [
             0.1,
             "#c51b7d"
            ],
            [
             0.2,
             "#de77ae"
            ],
            [
             0.3,
             "#f1b6da"
            ],
            [
             0.4,
             "#fde0ef"
            ],
            [
             0.5,
             "#f7f7f7"
            ],
            [
             0.6,
             "#e6f5d0"
            ],
            [
             0.7,
             "#b8e186"
            ],
            [
             0.8,
             "#7fbc41"
            ],
            [
             0.9,
             "#4d9221"
            ],
            [
             1,
             "#276419"
            ]
           ],
           "sequential": [
            [
             0,
             "#0d0887"
            ],
            [
             0.1111111111111111,
             "#46039f"
            ],
            [
             0.2222222222222222,
             "#7201a8"
            ],
            [
             0.3333333333333333,
             "#9c179e"
            ],
            [
             0.4444444444444444,
             "#bd3786"
            ],
            [
             0.5555555555555556,
             "#d8576b"
            ],
            [
             0.6666666666666666,
             "#ed7953"
            ],
            [
             0.7777777777777778,
             "#fb9f3a"
            ],
            [
             0.8888888888888888,
             "#fdca26"
            ],
            [
             1,
             "#f0f921"
            ]
           ],
           "sequentialminus": [
            [
             0,
             "#0d0887"
            ],
            [
             0.1111111111111111,
             "#46039f"
            ],
            [
             0.2222222222222222,
             "#7201a8"
            ],
            [
             0.3333333333333333,
             "#9c179e"
            ],
            [
             0.4444444444444444,
             "#bd3786"
            ],
            [
             0.5555555555555556,
             "#d8576b"
            ],
            [
             0.6666666666666666,
             "#ed7953"
            ],
            [
             0.7777777777777778,
             "#fb9f3a"
            ],
            [
             0.8888888888888888,
             "#fdca26"
            ],
            [
             1,
             "#f0f921"
            ]
           ]
          },
          "colorway": [
           "#636efa",
           "#EF553B",
           "#00cc96",
           "#ab63fa",
           "#FFA15A",
           "#19d3f3",
           "#FF6692",
           "#B6E880",
           "#FF97FF",
           "#FECB52"
          ],
          "font": {
           "color": "#2a3f5f"
          },
          "geo": {
           "bgcolor": "white",
           "lakecolor": "white",
           "landcolor": "#E5ECF6",
           "showlakes": true,
           "showland": true,
           "subunitcolor": "white"
          },
          "hoverlabel": {
           "align": "left"
          },
          "hovermode": "closest",
          "mapbox": {
           "style": "light"
          },
          "paper_bgcolor": "white",
          "plot_bgcolor": "#E5ECF6",
          "polar": {
           "angularaxis": {
            "gridcolor": "white",
            "linecolor": "white",
            "ticks": ""
           },
           "bgcolor": "#E5ECF6",
           "radialaxis": {
            "gridcolor": "white",
            "linecolor": "white",
            "ticks": ""
           }
          },
          "scene": {
           "xaxis": {
            "backgroundcolor": "#E5ECF6",
            "gridcolor": "white",
            "gridwidth": 2,
            "linecolor": "white",
            "showbackground": true,
            "ticks": "",
            "zerolinecolor": "white"
           },
           "yaxis": {
            "backgroundcolor": "#E5ECF6",
            "gridcolor": "white",
            "gridwidth": 2,
            "linecolor": "white",
            "showbackground": true,
            "ticks": "",
            "zerolinecolor": "white"
           },
           "zaxis": {
            "backgroundcolor": "#E5ECF6",
            "gridcolor": "white",
            "gridwidth": 2,
            "linecolor": "white",
            "showbackground": true,
            "ticks": "",
            "zerolinecolor": "white"
           }
          },
          "shapedefaults": {
           "line": {
            "color": "#2a3f5f"
           }
          },
          "ternary": {
           "aaxis": {
            "gridcolor": "white",
            "linecolor": "white",
            "ticks": ""
           },
           "baxis": {
            "gridcolor": "white",
            "linecolor": "white",
            "ticks": ""
           },
           "bgcolor": "#E5ECF6",
           "caxis": {
            "gridcolor": "white",
            "linecolor": "white",
            "ticks": ""
           }
          },
          "title": {
           "x": 0.05
          },
          "xaxis": {
           "automargin": true,
           "gridcolor": "white",
           "linecolor": "white",
           "ticks": "",
           "title": {
            "standoff": 15
           },
           "zerolinecolor": "white",
           "zerolinewidth": 2
          },
          "yaxis": {
           "automargin": true,
           "gridcolor": "white",
           "linecolor": "white",
           "ticks": "",
           "title": {
            "standoff": 15
           },
           "zerolinecolor": "white",
           "zerolinewidth": 2
          }
         }
        }
       }
      }
     },
     "metadata": {},
     "output_type": "display_data"
    }
   ],
   "source": [
    "import plotly.express as px\n",
    "\n",
    "plotter = []\n",
    "temp = out.reset_index()\n",
    "temp_enem = temp[temp['task'].isin([\"enem/2022\",\"enem/2023\",\"enem/2024\"])]\n",
    "\n",
    "tasks = list(temp_enem[\"task\"].unique())\n",
    "models = list(temp_enem.columns)[1:]\n",
    "\n",
    "min_r = 100\n",
    "max_r = 0\n",
    "\n",
    "for t in tasks:\n",
    "    for m in models:\n",
    "        tx = temp_enem[temp_enem[\"task\"] == t][m].reset_index(drop=True)[0]\n",
    "        \n",
    "        if tx < min_r:\n",
    "            min_r = tx\n",
    "        if tx > max_r:\n",
    "            max_r = tx\n",
    "        \n",
    "        plotter.append({\"task\": t, \"model\": m, \"score\": tx})\n",
    "\n",
    "plotter = pd.DataFrame(plotter)\n",
    "fig = px.line_polar(plotter, r=\"score\", theta=\"task\", color=\"model\", height=1400, line_close=True, markers=True, range_r=[min_r-5,max_r+5])\n",
    "fig.write_image(\"2_charts/radar.png\", height = 1400, width = 1400)\n",
    "# fig.write_image(\"2_charts/radar.png\")\n",
    "fig.show()\n"
   ]
  },
  {
   "cell_type": "code",
   "execution_count": 132,
   "metadata": {},
   "outputs": [
    {
     "name": "stderr",
     "output_type": "stream",
     "text": [
      "/var/folders/3v/mw3mqm_n2b790_112gdh2xdc0000gq/T/ipykernel_9935/3465430101.py:2: SettingWithCopyWarning:\n",
      "\n",
      "\n",
      "A value is trying to be set on a copy of a slice from a DataFrame.\n",
      "Try using .loc[row_indexer,col_indexer] = value instead\n",
      "\n",
      "See the caveats in the documentation: https://pandas.pydata.org/pandas-docs/stable/user_guide/indexing.html#returning-a-view-versus-a-copy\n",
      "\n"
     ]
    },
    {
     "data": {
      "text/html": [
       "<div>\n",
       "<style scoped>\n",
       "    .dataframe tbody tr th:only-of-type {\n",
       "        vertical-align: middle;\n",
       "    }\n",
       "\n",
       "    .dataframe tbody tr th {\n",
       "        vertical-align: top;\n",
       "    }\n",
       "\n",
       "    .dataframe thead th {\n",
       "        text-align: right;\n",
       "    }\n",
       "</style>\n",
       "<table border=\"1\" class=\"dataframe\">\n",
       "  <thead>\n",
       "    <tr style=\"text-align: right;\">\n",
       "      <th></th>\n",
       "      <th>base_model</th>\n",
       "      <th>model</th>\n",
       "      <th>accuracy</th>\n",
       "      <th>latency_per_token</th>\n",
       "      <th>real_cost_sum</th>\n",
       "    </tr>\n",
       "  </thead>\n",
       "  <tbody>\n",
       "    <tr>\n",
       "      <th>0</th>\n",
       "      <td>claude-3-5-haiku-20241022</td>\n",
       "      <td>claude-3-5-haiku-20241022-v1:0</td>\n",
       "      <td>62.200000</td>\n",
       "      <td>1.856667</td>\n",
       "      <td>0.064400</td>\n",
       "    </tr>\n",
       "    <tr>\n",
       "      <th>1</th>\n",
       "      <td>claude-3-5-haiku-20241022</td>\n",
       "      <td>claude-3-5-haiku-20241022-v1:0 - CoT</td>\n",
       "      <td>83.053333</td>\n",
       "      <td>8.473333</td>\n",
       "      <td>0.256133</td>\n",
       "    </tr>\n",
       "    <tr>\n",
       "      <th>2</th>\n",
       "      <td>claude-3-5-sonnet-20241022</td>\n",
       "      <td>claude-3-5-sonnet-20241022-v2:0</td>\n",
       "      <td>79.330000</td>\n",
       "      <td>1.960000</td>\n",
       "      <td>0.247500</td>\n",
       "    </tr>\n",
       "    <tr>\n",
       "      <th>3</th>\n",
       "      <td>nova-lite</td>\n",
       "      <td>nova-lite-v1:0</td>\n",
       "      <td>70.950000</td>\n",
       "      <td>0.413333</td>\n",
       "      <td>0.004033</td>\n",
       "    </tr>\n",
       "    <tr>\n",
       "      <th>4</th>\n",
       "      <td>nova-lite</td>\n",
       "      <td>nova-lite-v1:0 - CoT</td>\n",
       "      <td>78.586667</td>\n",
       "      <td>3.933333</td>\n",
       "      <td>0.019067</td>\n",
       "    </tr>\n",
       "    <tr>\n",
       "      <th>5</th>\n",
       "      <td>nova-micro</td>\n",
       "      <td>nova-micro-v1:0</td>\n",
       "      <td>66.106667</td>\n",
       "      <td>0.373333</td>\n",
       "      <td>0.002367</td>\n",
       "    </tr>\n",
       "    <tr>\n",
       "      <th>6</th>\n",
       "      <td>nova-micro</td>\n",
       "      <td>nova-micro-v1:0 - CoT</td>\n",
       "      <td>77.283333</td>\n",
       "      <td>3.176667</td>\n",
       "      <td>0.012267</td>\n",
       "    </tr>\n",
       "    <tr>\n",
       "      <th>7</th>\n",
       "      <td>nova-pro</td>\n",
       "      <td>nova-pro-v1:0</td>\n",
       "      <td>75.420000</td>\n",
       "      <td>0.440000</td>\n",
       "      <td>0.053733</td>\n",
       "    </tr>\n",
       "    <tr>\n",
       "      <th>8</th>\n",
       "      <td>nova-pro</td>\n",
       "      <td>nova-pro-v1:0 - CoT</td>\n",
       "      <td>85.663333</td>\n",
       "      <td>5.493333</td>\n",
       "      <td>0.204633</td>\n",
       "    </tr>\n",
       "  </tbody>\n",
       "</table>\n",
       "</div>"
      ],
      "text/plain": [
       "                   base_model                                 model  \\\n",
       "0   claude-3-5-haiku-20241022        claude-3-5-haiku-20241022-v1:0   \n",
       "1   claude-3-5-haiku-20241022  claude-3-5-haiku-20241022-v1:0 - CoT   \n",
       "2  claude-3-5-sonnet-20241022       claude-3-5-sonnet-20241022-v2:0   \n",
       "3                   nova-lite                        nova-lite-v1:0   \n",
       "4                   nova-lite                  nova-lite-v1:0 - CoT   \n",
       "5                  nova-micro                       nova-micro-v1:0   \n",
       "6                  nova-micro                 nova-micro-v1:0 - CoT   \n",
       "7                    nova-pro                         nova-pro-v1:0   \n",
       "8                    nova-pro                   nova-pro-v1:0 - CoT   \n",
       "\n",
       "    accuracy  latency_per_token  real_cost_sum  \n",
       "0  62.200000           1.856667       0.064400  \n",
       "1  83.053333           8.473333       0.256133  \n",
       "2  79.330000           1.960000       0.247500  \n",
       "3  70.950000           0.413333       0.004033  \n",
       "4  78.586667           3.933333       0.019067  \n",
       "5  66.106667           0.373333       0.002367  \n",
       "6  77.283333           3.176667       0.012267  \n",
       "7  75.420000           0.440000       0.053733  \n",
       "8  85.663333           5.493333       0.204633  "
      ]
     },
     "execution_count": 132,
     "metadata": {},
     "output_type": "execute_result"
    }
   ],
   "source": [
    "enem_e2e = df_benchmark_table[df_benchmark_table['task'].isin([\"enem/2022\",\"enem/2023\",\"enem/2024\"])]\n",
    "enem_e2e['base_model'] = enem_e2e['model'].apply(lambda x: x.split(' - ')[0].replace('-v1:0','').replace('-v2:0',''))\n",
    "enem_e2e = enem_e2e.groupby(['base_model', 'model']).agg({'accuracy': 'mean', 'latency_per_token': 'mean', 'real_cost_sum': 'mean'}).reset_index()\n",
    "enem_e2e"
   ]
  },
  {
   "cell_type": "code",
   "execution_count": 133,
   "metadata": {},
   "outputs": [
    {
     "data": {
      "application/vnd.plotly.v1+json": {
       "config": {
        "plotlyServerURL": "https://plot.ly"
       },
       "data": [
        {
         "hovertemplate": "model=claude-3-5-haiku-20241022-v1:0<br>base_model=claude-3-5-haiku-20241022<br>real_cost_sum=%{x}<br>accuracy=%{y}<br>latency_per_token=%{marker.size}<extra></extra>",
         "legendgroup": "claude-3-5-haiku-20241022-v1:0, claude-3-5-haiku-20241022",
         "marker": {
          "color": "#636efa",
          "size": [
           1.8566666666666667
          ],
          "sizemode": "area",
          "sizeref": 0.021183333333333335,
          "symbol": "circle"
         },
         "mode": "markers",
         "name": "claude-3-5-haiku-20241022-v1:0, claude-3-5-haiku-20241022",
         "orientation": "v",
         "showlegend": true,
         "type": "scatter",
         "x": [
          0.0644
         ],
         "xaxis": "x",
         "y": [
          62.20000000000001
         ],
         "yaxis": "y"
        },
        {
         "hovertemplate": "model=claude-3-5-haiku-20241022-v1:0 - CoT<br>base_model=claude-3-5-haiku-20241022<br>real_cost_sum=%{x}<br>accuracy=%{y}<br>latency_per_token=%{marker.size}<extra></extra>",
         "legendgroup": "claude-3-5-haiku-20241022-v1:0 - CoT, claude-3-5-haiku-20241022",
         "marker": {
          "color": "#EF553B",
          "size": [
           8.473333333333334
          ],
          "sizemode": "area",
          "sizeref": 0.021183333333333335,
          "symbol": "circle"
         },
         "mode": "markers",
         "name": "claude-3-5-haiku-20241022-v1:0 - CoT, claude-3-5-haiku-20241022",
         "orientation": "v",
         "showlegend": true,
         "type": "scatter",
         "x": [
          0.2561333333333333
         ],
         "xaxis": "x",
         "y": [
          83.05333333333334
         ],
         "yaxis": "y"
        },
        {
         "hovertemplate": "model=claude-3-5-sonnet-20241022-v2:0<br>base_model=claude-3-5-sonnet-20241022<br>real_cost_sum=%{x}<br>accuracy=%{y}<br>latency_per_token=%{marker.size}<extra></extra>",
         "legendgroup": "claude-3-5-sonnet-20241022-v2:0, claude-3-5-sonnet-20241022",
         "marker": {
          "color": "#00cc96",
          "size": [
           1.96
          ],
          "sizemode": "area",
          "sizeref": 0.021183333333333335,
          "symbol": "diamond"
         },
         "mode": "markers",
         "name": "claude-3-5-sonnet-20241022-v2:0, claude-3-5-sonnet-20241022",
         "orientation": "v",
         "showlegend": true,
         "type": "scatter",
         "x": [
          0.24750000000000003
         ],
         "xaxis": "x",
         "y": [
          79.33
         ],
         "yaxis": "y"
        },
        {
         "hovertemplate": "model=nova-lite-v1:0<br>base_model=nova-lite<br>real_cost_sum=%{x}<br>accuracy=%{y}<br>latency_per_token=%{marker.size}<extra></extra>",
         "legendgroup": "nova-lite-v1:0, nova-lite",
         "marker": {
          "color": "#ab63fa",
          "size": [
           0.41333333333333333
          ],
          "sizemode": "area",
          "sizeref": 0.021183333333333335,
          "symbol": "square"
         },
         "mode": "markers",
         "name": "nova-lite-v1:0, nova-lite",
         "orientation": "v",
         "showlegend": true,
         "type": "scatter",
         "x": [
          0.004033333333333333
         ],
         "xaxis": "x",
         "y": [
          70.95
         ],
         "yaxis": "y"
        },
        {
         "hovertemplate": "model=nova-lite-v1:0 - CoT<br>base_model=nova-lite<br>real_cost_sum=%{x}<br>accuracy=%{y}<br>latency_per_token=%{marker.size}<extra></extra>",
         "legendgroup": "nova-lite-v1:0 - CoT, nova-lite",
         "marker": {
          "color": "#FFA15A",
          "size": [
           3.9333333333333336
          ],
          "sizemode": "area",
          "sizeref": 0.021183333333333335,
          "symbol": "square"
         },
         "mode": "markers",
         "name": "nova-lite-v1:0 - CoT, nova-lite",
         "orientation": "v",
         "showlegend": true,
         "type": "scatter",
         "x": [
          0.019066666666666666
         ],
         "xaxis": "x",
         "y": [
          78.58666666666666
         ],
         "yaxis": "y"
        },
        {
         "hovertemplate": "model=nova-micro-v1:0<br>base_model=nova-micro<br>real_cost_sum=%{x}<br>accuracy=%{y}<br>latency_per_token=%{marker.size}<extra></extra>",
         "legendgroup": "nova-micro-v1:0, nova-micro",
         "marker": {
          "color": "#19d3f3",
          "size": [
           0.37333333333333335
          ],
          "sizemode": "area",
          "sizeref": 0.021183333333333335,
          "symbol": "x"
         },
         "mode": "markers",
         "name": "nova-micro-v1:0, nova-micro",
         "orientation": "v",
         "showlegend": true,
         "type": "scatter",
         "x": [
          0.0023666666666666667
         ],
         "xaxis": "x",
         "y": [
          66.10666666666667
         ],
         "yaxis": "y"
        },
        {
         "hovertemplate": "model=nova-micro-v1:0 - CoT<br>base_model=nova-micro<br>real_cost_sum=%{x}<br>accuracy=%{y}<br>latency_per_token=%{marker.size}<extra></extra>",
         "legendgroup": "nova-micro-v1:0 - CoT, nova-micro",
         "marker": {
          "color": "#FF6692",
          "size": [
           3.176666666666667
          ],
          "sizemode": "area",
          "sizeref": 0.021183333333333335,
          "symbol": "x"
         },
         "mode": "markers",
         "name": "nova-micro-v1:0 - CoT, nova-micro",
         "orientation": "v",
         "showlegend": true,
         "type": "scatter",
         "x": [
          0.012266666666666667
         ],
         "xaxis": "x",
         "y": [
          77.28333333333335
         ],
         "yaxis": "y"
        },
        {
         "hovertemplate": "model=nova-pro-v1:0<br>base_model=nova-pro<br>real_cost_sum=%{x}<br>accuracy=%{y}<br>latency_per_token=%{marker.size}<extra></extra>",
         "legendgroup": "nova-pro-v1:0, nova-pro",
         "marker": {
          "color": "#B6E880",
          "size": [
           0.44
          ],
          "sizemode": "area",
          "sizeref": 0.021183333333333335,
          "symbol": "cross"
         },
         "mode": "markers",
         "name": "nova-pro-v1:0, nova-pro",
         "orientation": "v",
         "showlegend": true,
         "type": "scatter",
         "x": [
          0.053733333333333334
         ],
         "xaxis": "x",
         "y": [
          75.42
         ],
         "yaxis": "y"
        },
        {
         "hovertemplate": "model=nova-pro-v1:0 - CoT<br>base_model=nova-pro<br>real_cost_sum=%{x}<br>accuracy=%{y}<br>latency_per_token=%{marker.size}<extra></extra>",
         "legendgroup": "nova-pro-v1:0 - CoT, nova-pro",
         "marker": {
          "color": "#FF97FF",
          "size": [
           5.493333333333333
          ],
          "sizemode": "area",
          "sizeref": 0.021183333333333335,
          "symbol": "cross"
         },
         "mode": "markers",
         "name": "nova-pro-v1:0 - CoT, nova-pro",
         "orientation": "v",
         "showlegend": true,
         "type": "scatter",
         "x": [
          0.20463333333333333
         ],
         "xaxis": "x",
         "y": [
          85.66333333333334
         ],
         "yaxis": "y"
        }
       ],
       "layout": {
        "height": 800,
        "legend": {
         "itemsizing": "constant",
         "title": {
          "text": "model, base_model"
         },
         "tracegroupgap": 0
        },
        "margin": {
         "t": 60
        },
        "template": {
         "data": {
          "bar": [
           {
            "error_x": {
             "color": "#2a3f5f"
            },
            "error_y": {
             "color": "#2a3f5f"
            },
            "marker": {
             "line": {
              "color": "#E5ECF6",
              "width": 0.5
             },
             "pattern": {
              "fillmode": "overlay",
              "size": 10,
              "solidity": 0.2
             }
            },
            "type": "bar"
           }
          ],
          "barpolar": [
           {
            "marker": {
             "line": {
              "color": "#E5ECF6",
              "width": 0.5
             },
             "pattern": {
              "fillmode": "overlay",
              "size": 10,
              "solidity": 0.2
             }
            },
            "type": "barpolar"
           }
          ],
          "carpet": [
           {
            "aaxis": {
             "endlinecolor": "#2a3f5f",
             "gridcolor": "white",
             "linecolor": "white",
             "minorgridcolor": "white",
             "startlinecolor": "#2a3f5f"
            },
            "baxis": {
             "endlinecolor": "#2a3f5f",
             "gridcolor": "white",
             "linecolor": "white",
             "minorgridcolor": "white",
             "startlinecolor": "#2a3f5f"
            },
            "type": "carpet"
           }
          ],
          "choropleth": [
           {
            "colorbar": {
             "outlinewidth": 0,
             "ticks": ""
            },
            "type": "choropleth"
           }
          ],
          "contour": [
           {
            "colorbar": {
             "outlinewidth": 0,
             "ticks": ""
            },
            "colorscale": [
             [
              0,
              "#0d0887"
             ],
             [
              0.1111111111111111,
              "#46039f"
             ],
             [
              0.2222222222222222,
              "#7201a8"
             ],
             [
              0.3333333333333333,
              "#9c179e"
             ],
             [
              0.4444444444444444,
              "#bd3786"
             ],
             [
              0.5555555555555556,
              "#d8576b"
             ],
             [
              0.6666666666666666,
              "#ed7953"
             ],
             [
              0.7777777777777778,
              "#fb9f3a"
             ],
             [
              0.8888888888888888,
              "#fdca26"
             ],
             [
              1,
              "#f0f921"
             ]
            ],
            "type": "contour"
           }
          ],
          "contourcarpet": [
           {
            "colorbar": {
             "outlinewidth": 0,
             "ticks": ""
            },
            "type": "contourcarpet"
           }
          ],
          "heatmap": [
           {
            "colorbar": {
             "outlinewidth": 0,
             "ticks": ""
            },
            "colorscale": [
             [
              0,
              "#0d0887"
             ],
             [
              0.1111111111111111,
              "#46039f"
             ],
             [
              0.2222222222222222,
              "#7201a8"
             ],
             [
              0.3333333333333333,
              "#9c179e"
             ],
             [
              0.4444444444444444,
              "#bd3786"
             ],
             [
              0.5555555555555556,
              "#d8576b"
             ],
             [
              0.6666666666666666,
              "#ed7953"
             ],
             [
              0.7777777777777778,
              "#fb9f3a"
             ],
             [
              0.8888888888888888,
              "#fdca26"
             ],
             [
              1,
              "#f0f921"
             ]
            ],
            "type": "heatmap"
           }
          ],
          "heatmapgl": [
           {
            "colorbar": {
             "outlinewidth": 0,
             "ticks": ""
            },
            "colorscale": [
             [
              0,
              "#0d0887"
             ],
             [
              0.1111111111111111,
              "#46039f"
             ],
             [
              0.2222222222222222,
              "#7201a8"
             ],
             [
              0.3333333333333333,
              "#9c179e"
             ],
             [
              0.4444444444444444,
              "#bd3786"
             ],
             [
              0.5555555555555556,
              "#d8576b"
             ],
             [
              0.6666666666666666,
              "#ed7953"
             ],
             [
              0.7777777777777778,
              "#fb9f3a"
             ],
             [
              0.8888888888888888,
              "#fdca26"
             ],
             [
              1,
              "#f0f921"
             ]
            ],
            "type": "heatmapgl"
           }
          ],
          "histogram": [
           {
            "marker": {
             "pattern": {
              "fillmode": "overlay",
              "size": 10,
              "solidity": 0.2
             }
            },
            "type": "histogram"
           }
          ],
          "histogram2d": [
           {
            "colorbar": {
             "outlinewidth": 0,
             "ticks": ""
            },
            "colorscale": [
             [
              0,
              "#0d0887"
             ],
             [
              0.1111111111111111,
              "#46039f"
             ],
             [
              0.2222222222222222,
              "#7201a8"
             ],
             [
              0.3333333333333333,
              "#9c179e"
             ],
             [
              0.4444444444444444,
              "#bd3786"
             ],
             [
              0.5555555555555556,
              "#d8576b"
             ],
             [
              0.6666666666666666,
              "#ed7953"
             ],
             [
              0.7777777777777778,
              "#fb9f3a"
             ],
             [
              0.8888888888888888,
              "#fdca26"
             ],
             [
              1,
              "#f0f921"
             ]
            ],
            "type": "histogram2d"
           }
          ],
          "histogram2dcontour": [
           {
            "colorbar": {
             "outlinewidth": 0,
             "ticks": ""
            },
            "colorscale": [
             [
              0,
              "#0d0887"
             ],
             [
              0.1111111111111111,
              "#46039f"
             ],
             [
              0.2222222222222222,
              "#7201a8"
             ],
             [
              0.3333333333333333,
              "#9c179e"
             ],
             [
              0.4444444444444444,
              "#bd3786"
             ],
             [
              0.5555555555555556,
              "#d8576b"
             ],
             [
              0.6666666666666666,
              "#ed7953"
             ],
             [
              0.7777777777777778,
              "#fb9f3a"
             ],
             [
              0.8888888888888888,
              "#fdca26"
             ],
             [
              1,
              "#f0f921"
             ]
            ],
            "type": "histogram2dcontour"
           }
          ],
          "mesh3d": [
           {
            "colorbar": {
             "outlinewidth": 0,
             "ticks": ""
            },
            "type": "mesh3d"
           }
          ],
          "parcoords": [
           {
            "line": {
             "colorbar": {
              "outlinewidth": 0,
              "ticks": ""
             }
            },
            "type": "parcoords"
           }
          ],
          "pie": [
           {
            "automargin": true,
            "type": "pie"
           }
          ],
          "scatter": [
           {
            "fillpattern": {
             "fillmode": "overlay",
             "size": 10,
             "solidity": 0.2
            },
            "type": "scatter"
           }
          ],
          "scatter3d": [
           {
            "line": {
             "colorbar": {
              "outlinewidth": 0,
              "ticks": ""
             }
            },
            "marker": {
             "colorbar": {
              "outlinewidth": 0,
              "ticks": ""
             }
            },
            "type": "scatter3d"
           }
          ],
          "scattercarpet": [
           {
            "marker": {
             "colorbar": {
              "outlinewidth": 0,
              "ticks": ""
             }
            },
            "type": "scattercarpet"
           }
          ],
          "scattergeo": [
           {
            "marker": {
             "colorbar": {
              "outlinewidth": 0,
              "ticks": ""
             }
            },
            "type": "scattergeo"
           }
          ],
          "scattergl": [
           {
            "marker": {
             "colorbar": {
              "outlinewidth": 0,
              "ticks": ""
             }
            },
            "type": "scattergl"
           }
          ],
          "scattermapbox": [
           {
            "marker": {
             "colorbar": {
              "outlinewidth": 0,
              "ticks": ""
             }
            },
            "type": "scattermapbox"
           }
          ],
          "scatterpolar": [
           {
            "marker": {
             "colorbar": {
              "outlinewidth": 0,
              "ticks": ""
             }
            },
            "type": "scatterpolar"
           }
          ],
          "scatterpolargl": [
           {
            "marker": {
             "colorbar": {
              "outlinewidth": 0,
              "ticks": ""
             }
            },
            "type": "scatterpolargl"
           }
          ],
          "scatterternary": [
           {
            "marker": {
             "colorbar": {
              "outlinewidth": 0,
              "ticks": ""
             }
            },
            "type": "scatterternary"
           }
          ],
          "surface": [
           {
            "colorbar": {
             "outlinewidth": 0,
             "ticks": ""
            },
            "colorscale": [
             [
              0,
              "#0d0887"
             ],
             [
              0.1111111111111111,
              "#46039f"
             ],
             [
              0.2222222222222222,
              "#7201a8"
             ],
             [
              0.3333333333333333,
              "#9c179e"
             ],
             [
              0.4444444444444444,
              "#bd3786"
             ],
             [
              0.5555555555555556,
              "#d8576b"
             ],
             [
              0.6666666666666666,
              "#ed7953"
             ],
             [
              0.7777777777777778,
              "#fb9f3a"
             ],
             [
              0.8888888888888888,
              "#fdca26"
             ],
             [
              1,
              "#f0f921"
             ]
            ],
            "type": "surface"
           }
          ],
          "table": [
           {
            "cells": {
             "fill": {
              "color": "#EBF0F8"
             },
             "line": {
              "color": "white"
             }
            },
            "header": {
             "fill": {
              "color": "#C8D4E3"
             },
             "line": {
              "color": "white"
             }
            },
            "type": "table"
           }
          ]
         },
         "layout": {
          "annotationdefaults": {
           "arrowcolor": "#2a3f5f",
           "arrowhead": 0,
           "arrowwidth": 1
          },
          "autotypenumbers": "strict",
          "coloraxis": {
           "colorbar": {
            "outlinewidth": 0,
            "ticks": ""
           }
          },
          "colorscale": {
           "diverging": [
            [
             0,
             "#8e0152"
            ],
            [
             0.1,
             "#c51b7d"
            ],
            [
             0.2,
             "#de77ae"
            ],
            [
             0.3,
             "#f1b6da"
            ],
            [
             0.4,
             "#fde0ef"
            ],
            [
             0.5,
             "#f7f7f7"
            ],
            [
             0.6,
             "#e6f5d0"
            ],
            [
             0.7,
             "#b8e186"
            ],
            [
             0.8,
             "#7fbc41"
            ],
            [
             0.9,
             "#4d9221"
            ],
            [
             1,
             "#276419"
            ]
           ],
           "sequential": [
            [
             0,
             "#0d0887"
            ],
            [
             0.1111111111111111,
             "#46039f"
            ],
            [
             0.2222222222222222,
             "#7201a8"
            ],
            [
             0.3333333333333333,
             "#9c179e"
            ],
            [
             0.4444444444444444,
             "#bd3786"
            ],
            [
             0.5555555555555556,
             "#d8576b"
            ],
            [
             0.6666666666666666,
             "#ed7953"
            ],
            [
             0.7777777777777778,
             "#fb9f3a"
            ],
            [
             0.8888888888888888,
             "#fdca26"
            ],
            [
             1,
             "#f0f921"
            ]
           ],
           "sequentialminus": [
            [
             0,
             "#0d0887"
            ],
            [
             0.1111111111111111,
             "#46039f"
            ],
            [
             0.2222222222222222,
             "#7201a8"
            ],
            [
             0.3333333333333333,
             "#9c179e"
            ],
            [
             0.4444444444444444,
             "#bd3786"
            ],
            [
             0.5555555555555556,
             "#d8576b"
            ],
            [
             0.6666666666666666,
             "#ed7953"
            ],
            [
             0.7777777777777778,
             "#fb9f3a"
            ],
            [
             0.8888888888888888,
             "#fdca26"
            ],
            [
             1,
             "#f0f921"
            ]
           ]
          },
          "colorway": [
           "#636efa",
           "#EF553B",
           "#00cc96",
           "#ab63fa",
           "#FFA15A",
           "#19d3f3",
           "#FF6692",
           "#B6E880",
           "#FF97FF",
           "#FECB52"
          ],
          "font": {
           "color": "#2a3f5f"
          },
          "geo": {
           "bgcolor": "white",
           "lakecolor": "white",
           "landcolor": "#E5ECF6",
           "showlakes": true,
           "showland": true,
           "subunitcolor": "white"
          },
          "hoverlabel": {
           "align": "left"
          },
          "hovermode": "closest",
          "mapbox": {
           "style": "light"
          },
          "paper_bgcolor": "white",
          "plot_bgcolor": "#E5ECF6",
          "polar": {
           "angularaxis": {
            "gridcolor": "white",
            "linecolor": "white",
            "ticks": ""
           },
           "bgcolor": "#E5ECF6",
           "radialaxis": {
            "gridcolor": "white",
            "linecolor": "white",
            "ticks": ""
           }
          },
          "scene": {
           "xaxis": {
            "backgroundcolor": "#E5ECF6",
            "gridcolor": "white",
            "gridwidth": 2,
            "linecolor": "white",
            "showbackground": true,
            "ticks": "",
            "zerolinecolor": "white"
           },
           "yaxis": {
            "backgroundcolor": "#E5ECF6",
            "gridcolor": "white",
            "gridwidth": 2,
            "linecolor": "white",
            "showbackground": true,
            "ticks": "",
            "zerolinecolor": "white"
           },
           "zaxis": {
            "backgroundcolor": "#E5ECF6",
            "gridcolor": "white",
            "gridwidth": 2,
            "linecolor": "white",
            "showbackground": true,
            "ticks": "",
            "zerolinecolor": "white"
           }
          },
          "shapedefaults": {
           "line": {
            "color": "#2a3f5f"
           }
          },
          "ternary": {
           "aaxis": {
            "gridcolor": "white",
            "linecolor": "white",
            "ticks": ""
           },
           "baxis": {
            "gridcolor": "white",
            "linecolor": "white",
            "ticks": ""
           },
           "bgcolor": "#E5ECF6",
           "caxis": {
            "gridcolor": "white",
            "linecolor": "white",
            "ticks": ""
           }
          },
          "title": {
           "x": 0.05
          },
          "xaxis": {
           "automargin": true,
           "gridcolor": "white",
           "linecolor": "white",
           "ticks": "",
           "title": {
            "standoff": 15
           },
           "zerolinecolor": "white",
           "zerolinewidth": 2
          },
          "yaxis": {
           "automargin": true,
           "gridcolor": "white",
           "linecolor": "white",
           "ticks": "",
           "title": {
            "standoff": 15
           },
           "zerolinecolor": "white",
           "zerolinewidth": 2
          }
         }
        },
        "xaxis": {
         "anchor": "y",
         "domain": [
          0,
          1
         ],
         "title": {
          "text": "real_cost_sum"
         }
        },
        "yaxis": {
         "anchor": "x",
         "domain": [
          0,
          1
         ],
         "title": {
          "text": "accuracy"
         }
        }
       }
      }
     },
     "metadata": {},
     "output_type": "display_data"
    }
   ],
   "source": [
    "px.scatter(enem_e2e, x='real_cost_sum', y='accuracy', size='latency_per_token', color='model', symbol = 'base_model', height=800)"
   ]
  },
  {
   "cell_type": "code",
   "execution_count": null,
   "metadata": {},
   "outputs": [],
   "source": []
  }
 ],
 "metadata": {
  "kernelspec": {
   "display_name": ".venv",
   "language": "python",
   "name": "python3"
  },
  "language_info": {
   "codemirror_mode": {
    "name": "ipython",
    "version": 3
   },
   "file_extension": ".py",
   "mimetype": "text/x-python",
   "name": "python",
   "nbconvert_exporter": "python",
   "pygments_lexer": "ipython3",
   "version": "3.12.7"
  }
 },
 "nbformat": 4,
 "nbformat_minor": 2
}
